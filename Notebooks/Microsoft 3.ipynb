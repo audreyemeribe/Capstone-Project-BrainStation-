{
 "cells": [
  {
   "cell_type": "markdown",
   "id": "468745aa",
   "metadata": {},
   "source": [
    "# NOTEBOOK 3\n",
    "\n",
    "\n",
    "# INTRODUCTION\n",
    "\n",
    "Following the cleaning process, EDA and first model evaluation, there is need to do a hyperparameter grid search for the best parameters to use and the best models to fit the dataset with. This will be great for a better prediction of income for the test set which was not given.\n"
   ]
  },
  {
   "cell_type": "code",
   "execution_count": 1,
   "id": "79258e05",
   "metadata": {},
   "outputs": [
    {
     "name": "stderr",
     "output_type": "stream",
     "text": [
      "C:\\Users\\audre\\anaconda3\\envs\\boosting\\lib\\site-packages\\xgboost\\compat.py:93: FutureWarning: pandas.Int64Index is deprecated and will be removed from pandas in a future version. Use pandas.Index with the appropriate dtype instead.\n",
      "  from pandas import MultiIndex, Int64Index\n"
     ]
    }
   ],
   "source": [
    "# Import all the relevant packages\n",
    "import numpy as np # for linear algebra\n",
    "import pandas as pd # for data manipulation and analysis\n",
    "\n",
    "import seaborn as sns # for data visualization and plots\n",
    "import matplotlib.pyplot as plt\n",
    "%matplotlib inline\n",
    "\n",
    "# To split the data as necessary for modelling\n",
    "from sklearn.model_selection import train_test_split\n",
    "\n",
    "# To build a model\n",
    "from sklearn.linear_model import Ridge\n",
    "from xgboost import XGBRegressor\n",
    "from xgboost.sklearn import XGBRegressor\n",
    "from sklearn.ensemble import RandomForestRegressor\n",
    "from sklearn.tree import DecisionTreeRegressor, plot_tree\n",
    "from sklearn import tree\n",
    "from sklearn.metrics import mean_squared_error , r2_score\n",
    "from sklearn.inspection import permutation_importance\n",
    "\n",
    "# To get rid of logistic regression default solver warnings that appear if sklearn hasn't been updated\n",
    "import warnings\n",
    "warnings.filterwarnings('ignore')\n",
    "\n",
    "# To \"pickle\" things, like accuracies or even an entire fitted model\n",
    "import joblib\n",
    "\n",
    "# To cross-validate\n",
    "from sklearn.model_selection import cross_val_score\n",
    "\n",
    "# To set up a temporary directory for caching pipeline results\n",
    "from tempfile import mkdtemp\n",
    "\n",
    "# To build a pipeline\n",
    "from sklearn.pipeline import Pipeline\n",
    "from sklearn import set_config\n",
    "\n",
    "# To try scaling the data in various ways\n",
    "from sklearn.preprocessing import MinMaxScaler\n",
    "from sklearn.preprocessing import StandardScaler\n",
    "\n",
    "# To try dimensionality reduction\n",
    "from sklearn.decomposition import PCA\n",
    "\n",
    "# To do a cross-validated grid search\n",
    "from sklearn.model_selection import GridSearchCV\n",
    "from sklearn.model_selection import RandomizedSearchCV"
   ]
  },
  {
   "cell_type": "markdown",
   "id": "ed3dbfe0",
   "metadata": {},
   "source": [
    "## BASIC EDA\n",
    "- Read in the csv to be used\n",
    "- Because the test csv doesn't have any input values for income, I will split the train csv into a train and test set and use the best model and parameter to predict the income for the test csv data"
   ]
  },
  {
   "cell_type": "code",
   "execution_count": 2,
   "id": "54073f73",
   "metadata": {},
   "outputs": [
    {
     "data": {
      "text/html": [
       "<div>\n",
       "<style scoped>\n",
       "    .dataframe tbody tr th:only-of-type {\n",
       "        vertical-align: middle;\n",
       "    }\n",
       "\n",
       "    .dataframe tbody tr th {\n",
       "        vertical-align: top;\n",
       "    }\n",
       "\n",
       "    .dataframe thead th {\n",
       "        text-align: right;\n",
       "    }\n",
       "</style>\n",
       "<table border=\"1\" class=\"dataframe\">\n",
       "  <thead>\n",
       "    <tr style=\"text-align: right;\">\n",
       "      <th></th>\n",
       "      <th>academics__program_assoc_business_marketing</th>\n",
       "      <th>academics__program_assoc_health</th>\n",
       "      <th>academics__program_bachelors_business_marketing</th>\n",
       "      <th>academics__program_certificate_lt_1_yr_health</th>\n",
       "      <th>academics__program_certificate_lt_2_yr_business_marketing</th>\n",
       "      <th>academics__program_certificate_lt_2_yr_health</th>\n",
       "      <th>academics__program_percentage_biological</th>\n",
       "      <th>academics__program_percentage_business_marketing</th>\n",
       "      <th>academics__program_percentage_communication</th>\n",
       "      <th>academics__program_percentage_computer</th>\n",
       "      <th>...</th>\n",
       "      <th>school__region_id_Outlying Areas (AS, FM, GU, MH, MP, PR, PW, VI)</th>\n",
       "      <th>school__region_id_Plains (IA, KS, MN, MO, NE, ND, SD)</th>\n",
       "      <th>school__region_id_Rocky Mountains (CO, ID, MT, UT, WY)</th>\n",
       "      <th>school__region_id_Southeast (AL, AR, FL, GA, KY, LA, MS, NC, SC, TN, VA, WV)</th>\n",
       "      <th>school__region_id_Southwest (AZ, NM, OK, TX)</th>\n",
       "      <th>report_year_year_a</th>\n",
       "      <th>report_year_year_f</th>\n",
       "      <th>report_year_year_w</th>\n",
       "      <th>report_year_year_z</th>\n",
       "      <th>income</th>\n",
       "    </tr>\n",
       "  </thead>\n",
       "  <tbody>\n",
       "    <tr>\n",
       "      <th>0</th>\n",
       "      <td>0.0</td>\n",
       "      <td>0.0</td>\n",
       "      <td>0.0</td>\n",
       "      <td>0.0</td>\n",
       "      <td>0.0</td>\n",
       "      <td>0.0</td>\n",
       "      <td>0.0000</td>\n",
       "      <td>0.0000</td>\n",
       "      <td>0.0000</td>\n",
       "      <td>0.0000</td>\n",
       "      <td>...</td>\n",
       "      <td>0</td>\n",
       "      <td>0</td>\n",
       "      <td>0</td>\n",
       "      <td>1</td>\n",
       "      <td>0</td>\n",
       "      <td>1</td>\n",
       "      <td>0</td>\n",
       "      <td>0</td>\n",
       "      <td>0</td>\n",
       "      <td>46.9</td>\n",
       "    </tr>\n",
       "    <tr>\n",
       "      <th>1</th>\n",
       "      <td>0.0</td>\n",
       "      <td>0.0</td>\n",
       "      <td>0.0</td>\n",
       "      <td>0.0</td>\n",
       "      <td>0.0</td>\n",
       "      <td>0.0</td>\n",
       "      <td>0.0000</td>\n",
       "      <td>0.0000</td>\n",
       "      <td>0.0000</td>\n",
       "      <td>0.0000</td>\n",
       "      <td>...</td>\n",
       "      <td>0</td>\n",
       "      <td>0</td>\n",
       "      <td>0</td>\n",
       "      <td>0</td>\n",
       "      <td>0</td>\n",
       "      <td>0</td>\n",
       "      <td>1</td>\n",
       "      <td>0</td>\n",
       "      <td>0</td>\n",
       "      <td>26.7</td>\n",
       "    </tr>\n",
       "    <tr>\n",
       "      <th>2</th>\n",
       "      <td>0.0</td>\n",
       "      <td>0.0</td>\n",
       "      <td>0.0</td>\n",
       "      <td>1.0</td>\n",
       "      <td>0.0</td>\n",
       "      <td>1.0</td>\n",
       "      <td>0.0000</td>\n",
       "      <td>0.0000</td>\n",
       "      <td>0.0000</td>\n",
       "      <td>0.0000</td>\n",
       "      <td>...</td>\n",
       "      <td>0</td>\n",
       "      <td>0</td>\n",
       "      <td>0</td>\n",
       "      <td>1</td>\n",
       "      <td>0</td>\n",
       "      <td>0</td>\n",
       "      <td>0</td>\n",
       "      <td>0</td>\n",
       "      <td>1</td>\n",
       "      <td>28.1</td>\n",
       "    </tr>\n",
       "    <tr>\n",
       "      <th>3</th>\n",
       "      <td>1.0</td>\n",
       "      <td>0.0</td>\n",
       "      <td>1.0</td>\n",
       "      <td>0.0</td>\n",
       "      <td>0.0</td>\n",
       "      <td>0.0</td>\n",
       "      <td>0.0705</td>\n",
       "      <td>0.4108</td>\n",
       "      <td>0.0104</td>\n",
       "      <td>0.0436</td>\n",
       "      <td>...</td>\n",
       "      <td>0</td>\n",
       "      <td>1</td>\n",
       "      <td>0</td>\n",
       "      <td>0</td>\n",
       "      <td>0</td>\n",
       "      <td>0</td>\n",
       "      <td>1</td>\n",
       "      <td>0</td>\n",
       "      <td>0</td>\n",
       "      <td>41.6</td>\n",
       "    </tr>\n",
       "    <tr>\n",
       "      <th>4</th>\n",
       "      <td>0.0</td>\n",
       "      <td>0.0</td>\n",
       "      <td>1.0</td>\n",
       "      <td>1.0</td>\n",
       "      <td>0.0</td>\n",
       "      <td>0.0</td>\n",
       "      <td>0.0459</td>\n",
       "      <td>0.2184</td>\n",
       "      <td>0.0515</td>\n",
       "      <td>0.0362</td>\n",
       "      <td>...</td>\n",
       "      <td>0</td>\n",
       "      <td>0</td>\n",
       "      <td>0</td>\n",
       "      <td>0</td>\n",
       "      <td>0</td>\n",
       "      <td>1</td>\n",
       "      <td>0</td>\n",
       "      <td>0</td>\n",
       "      <td>0</td>\n",
       "      <td>34.3</td>\n",
       "    </tr>\n",
       "    <tr>\n",
       "      <th>...</th>\n",
       "      <td>...</td>\n",
       "      <td>...</td>\n",
       "      <td>...</td>\n",
       "      <td>...</td>\n",
       "      <td>...</td>\n",
       "      <td>...</td>\n",
       "      <td>...</td>\n",
       "      <td>...</td>\n",
       "      <td>...</td>\n",
       "      <td>...</td>\n",
       "      <td>...</td>\n",
       "      <td>...</td>\n",
       "      <td>...</td>\n",
       "      <td>...</td>\n",
       "      <td>...</td>\n",
       "      <td>...</td>\n",
       "      <td>...</td>\n",
       "      <td>...</td>\n",
       "      <td>...</td>\n",
       "      <td>...</td>\n",
       "      <td>...</td>\n",
       "    </tr>\n",
       "    <tr>\n",
       "      <th>17008</th>\n",
       "      <td>1.0</td>\n",
       "      <td>0.0</td>\n",
       "      <td>0.0</td>\n",
       "      <td>0.0</td>\n",
       "      <td>1.0</td>\n",
       "      <td>0.0</td>\n",
       "      <td>0.0000</td>\n",
       "      <td>1.0000</td>\n",
       "      <td>0.0000</td>\n",
       "      <td>0.0000</td>\n",
       "      <td>...</td>\n",
       "      <td>0</td>\n",
       "      <td>0</td>\n",
       "      <td>0</td>\n",
       "      <td>0</td>\n",
       "      <td>0</td>\n",
       "      <td>0</td>\n",
       "      <td>0</td>\n",
       "      <td>0</td>\n",
       "      <td>1</td>\n",
       "      <td>19.5</td>\n",
       "    </tr>\n",
       "    <tr>\n",
       "      <th>17009</th>\n",
       "      <td>1.0</td>\n",
       "      <td>1.0</td>\n",
       "      <td>0.0</td>\n",
       "      <td>1.0</td>\n",
       "      <td>1.0</td>\n",
       "      <td>1.0</td>\n",
       "      <td>0.0000</td>\n",
       "      <td>0.0307</td>\n",
       "      <td>0.0000</td>\n",
       "      <td>0.0921</td>\n",
       "      <td>...</td>\n",
       "      <td>0</td>\n",
       "      <td>0</td>\n",
       "      <td>0</td>\n",
       "      <td>1</td>\n",
       "      <td>0</td>\n",
       "      <td>0</td>\n",
       "      <td>1</td>\n",
       "      <td>0</td>\n",
       "      <td>0</td>\n",
       "      <td>20.7</td>\n",
       "    </tr>\n",
       "    <tr>\n",
       "      <th>17010</th>\n",
       "      <td>0.0</td>\n",
       "      <td>1.0</td>\n",
       "      <td>0.0</td>\n",
       "      <td>1.0</td>\n",
       "      <td>0.0</td>\n",
       "      <td>0.0</td>\n",
       "      <td>0.0000</td>\n",
       "      <td>0.0000</td>\n",
       "      <td>0.0000</td>\n",
       "      <td>0.0000</td>\n",
       "      <td>...</td>\n",
       "      <td>0</td>\n",
       "      <td>0</td>\n",
       "      <td>0</td>\n",
       "      <td>0</td>\n",
       "      <td>0</td>\n",
       "      <td>0</td>\n",
       "      <td>1</td>\n",
       "      <td>0</td>\n",
       "      <td>0</td>\n",
       "      <td>28.0</td>\n",
       "    </tr>\n",
       "    <tr>\n",
       "      <th>17011</th>\n",
       "      <td>0.0</td>\n",
       "      <td>0.0</td>\n",
       "      <td>0.0</td>\n",
       "      <td>1.0</td>\n",
       "      <td>0.0</td>\n",
       "      <td>0.0</td>\n",
       "      <td>0.0000</td>\n",
       "      <td>0.0000</td>\n",
       "      <td>0.0000</td>\n",
       "      <td>0.0000</td>\n",
       "      <td>...</td>\n",
       "      <td>0</td>\n",
       "      <td>0</td>\n",
       "      <td>0</td>\n",
       "      <td>0</td>\n",
       "      <td>0</td>\n",
       "      <td>0</td>\n",
       "      <td>0</td>\n",
       "      <td>1</td>\n",
       "      <td>0</td>\n",
       "      <td>22.4</td>\n",
       "    </tr>\n",
       "    <tr>\n",
       "      <th>17012</th>\n",
       "      <td>0.0</td>\n",
       "      <td>0.0</td>\n",
       "      <td>0.0</td>\n",
       "      <td>1.0</td>\n",
       "      <td>1.0</td>\n",
       "      <td>1.0</td>\n",
       "      <td>0.0000</td>\n",
       "      <td>0.0981</td>\n",
       "      <td>0.0000</td>\n",
       "      <td>0.0321</td>\n",
       "      <td>...</td>\n",
       "      <td>0</td>\n",
       "      <td>0</td>\n",
       "      <td>0</td>\n",
       "      <td>1</td>\n",
       "      <td>0</td>\n",
       "      <td>0</td>\n",
       "      <td>0</td>\n",
       "      <td>0</td>\n",
       "      <td>1</td>\n",
       "      <td>24.8</td>\n",
       "    </tr>\n",
       "  </tbody>\n",
       "</table>\n",
       "<p>17013 rows × 72 columns</p>\n",
       "</div>"
      ],
      "text/plain": [
       "       academics__program_assoc_business_marketing  \\\n",
       "0                                              0.0   \n",
       "1                                              0.0   \n",
       "2                                              0.0   \n",
       "3                                              1.0   \n",
       "4                                              0.0   \n",
       "...                                            ...   \n",
       "17008                                          1.0   \n",
       "17009                                          1.0   \n",
       "17010                                          0.0   \n",
       "17011                                          0.0   \n",
       "17012                                          0.0   \n",
       "\n",
       "       academics__program_assoc_health  \\\n",
       "0                                  0.0   \n",
       "1                                  0.0   \n",
       "2                                  0.0   \n",
       "3                                  0.0   \n",
       "4                                  0.0   \n",
       "...                                ...   \n",
       "17008                              0.0   \n",
       "17009                              1.0   \n",
       "17010                              1.0   \n",
       "17011                              0.0   \n",
       "17012                              0.0   \n",
       "\n",
       "       academics__program_bachelors_business_marketing  \\\n",
       "0                                                  0.0   \n",
       "1                                                  0.0   \n",
       "2                                                  0.0   \n",
       "3                                                  1.0   \n",
       "4                                                  1.0   \n",
       "...                                                ...   \n",
       "17008                                              0.0   \n",
       "17009                                              0.0   \n",
       "17010                                              0.0   \n",
       "17011                                              0.0   \n",
       "17012                                              0.0   \n",
       "\n",
       "       academics__program_certificate_lt_1_yr_health  \\\n",
       "0                                                0.0   \n",
       "1                                                0.0   \n",
       "2                                                1.0   \n",
       "3                                                0.0   \n",
       "4                                                1.0   \n",
       "...                                              ...   \n",
       "17008                                            0.0   \n",
       "17009                                            1.0   \n",
       "17010                                            1.0   \n",
       "17011                                            1.0   \n",
       "17012                                            1.0   \n",
       "\n",
       "       academics__program_certificate_lt_2_yr_business_marketing  \\\n",
       "0                                                    0.0           \n",
       "1                                                    0.0           \n",
       "2                                                    0.0           \n",
       "3                                                    0.0           \n",
       "4                                                    0.0           \n",
       "...                                                  ...           \n",
       "17008                                                1.0           \n",
       "17009                                                1.0           \n",
       "17010                                                0.0           \n",
       "17011                                                0.0           \n",
       "17012                                                1.0           \n",
       "\n",
       "       academics__program_certificate_lt_2_yr_health  \\\n",
       "0                                                0.0   \n",
       "1                                                0.0   \n",
       "2                                                1.0   \n",
       "3                                                0.0   \n",
       "4                                                0.0   \n",
       "...                                              ...   \n",
       "17008                                            0.0   \n",
       "17009                                            1.0   \n",
       "17010                                            0.0   \n",
       "17011                                            0.0   \n",
       "17012                                            1.0   \n",
       "\n",
       "       academics__program_percentage_biological  \\\n",
       "0                                        0.0000   \n",
       "1                                        0.0000   \n",
       "2                                        0.0000   \n",
       "3                                        0.0705   \n",
       "4                                        0.0459   \n",
       "...                                         ...   \n",
       "17008                                    0.0000   \n",
       "17009                                    0.0000   \n",
       "17010                                    0.0000   \n",
       "17011                                    0.0000   \n",
       "17012                                    0.0000   \n",
       "\n",
       "       academics__program_percentage_business_marketing  \\\n",
       "0                                                0.0000   \n",
       "1                                                0.0000   \n",
       "2                                                0.0000   \n",
       "3                                                0.4108   \n",
       "4                                                0.2184   \n",
       "...                                                 ...   \n",
       "17008                                            1.0000   \n",
       "17009                                            0.0307   \n",
       "17010                                            0.0000   \n",
       "17011                                            0.0000   \n",
       "17012                                            0.0981   \n",
       "\n",
       "       academics__program_percentage_communication  \\\n",
       "0                                           0.0000   \n",
       "1                                           0.0000   \n",
       "2                                           0.0000   \n",
       "3                                           0.0104   \n",
       "4                                           0.0515   \n",
       "...                                            ...   \n",
       "17008                                       0.0000   \n",
       "17009                                       0.0000   \n",
       "17010                                       0.0000   \n",
       "17011                                       0.0000   \n",
       "17012                                       0.0000   \n",
       "\n",
       "       academics__program_percentage_computer  ...  \\\n",
       "0                                      0.0000  ...   \n",
       "1                                      0.0000  ...   \n",
       "2                                      0.0000  ...   \n",
       "3                                      0.0436  ...   \n",
       "4                                      0.0362  ...   \n",
       "...                                       ...  ...   \n",
       "17008                                  0.0000  ...   \n",
       "17009                                  0.0921  ...   \n",
       "17010                                  0.0000  ...   \n",
       "17011                                  0.0000  ...   \n",
       "17012                                  0.0321  ...   \n",
       "\n",
       "       school__region_id_Outlying Areas (AS, FM, GU, MH, MP, PR, PW, VI)  \\\n",
       "0                                                      0                   \n",
       "1                                                      0                   \n",
       "2                                                      0                   \n",
       "3                                                      0                   \n",
       "4                                                      0                   \n",
       "...                                                  ...                   \n",
       "17008                                                  0                   \n",
       "17009                                                  0                   \n",
       "17010                                                  0                   \n",
       "17011                                                  0                   \n",
       "17012                                                  0                   \n",
       "\n",
       "       school__region_id_Plains (IA, KS, MN, MO, NE, ND, SD)  \\\n",
       "0                                                      0       \n",
       "1                                                      0       \n",
       "2                                                      0       \n",
       "3                                                      1       \n",
       "4                                                      0       \n",
       "...                                                  ...       \n",
       "17008                                                  0       \n",
       "17009                                                  0       \n",
       "17010                                                  0       \n",
       "17011                                                  0       \n",
       "17012                                                  0       \n",
       "\n",
       "       school__region_id_Rocky Mountains (CO, ID, MT, UT, WY)  \\\n",
       "0                                                      0        \n",
       "1                                                      0        \n",
       "2                                                      0        \n",
       "3                                                      0        \n",
       "4                                                      0        \n",
       "...                                                  ...        \n",
       "17008                                                  0        \n",
       "17009                                                  0        \n",
       "17010                                                  0        \n",
       "17011                                                  0        \n",
       "17012                                                  0        \n",
       "\n",
       "       school__region_id_Southeast (AL, AR, FL, GA, KY, LA, MS, NC, SC, TN, VA, WV)  \\\n",
       "0                                                      1                              \n",
       "1                                                      0                              \n",
       "2                                                      1                              \n",
       "3                                                      0                              \n",
       "4                                                      0                              \n",
       "...                                                  ...                              \n",
       "17008                                                  0                              \n",
       "17009                                                  1                              \n",
       "17010                                                  0                              \n",
       "17011                                                  0                              \n",
       "17012                                                  1                              \n",
       "\n",
       "       school__region_id_Southwest (AZ, NM, OK, TX)  report_year_year_a  \\\n",
       "0                                                 0                   1   \n",
       "1                                                 0                   0   \n",
       "2                                                 0                   0   \n",
       "3                                                 0                   0   \n",
       "4                                                 0                   1   \n",
       "...                                             ...                 ...   \n",
       "17008                                             0                   0   \n",
       "17009                                             0                   0   \n",
       "17010                                             0                   0   \n",
       "17011                                             0                   0   \n",
       "17012                                             0                   0   \n",
       "\n",
       "       report_year_year_f  report_year_year_w  report_year_year_z  income  \n",
       "0                       0                   0                   0    46.9  \n",
       "1                       1                   0                   0    26.7  \n",
       "2                       0                   0                   1    28.1  \n",
       "3                       1                   0                   0    41.6  \n",
       "4                       0                   0                   0    34.3  \n",
       "...                   ...                 ...                 ...     ...  \n",
       "17008                   0                   0                   1    19.5  \n",
       "17009                   1                   0                   0    20.7  \n",
       "17010                   1                   0                   0    28.0  \n",
       "17011                   0                   1                   0    22.4  \n",
       "17012                   0                   0                   1    24.8  \n",
       "\n",
       "[17013 rows x 72 columns]"
      ]
     },
     "execution_count": 2,
     "metadata": {},
     "output_type": "execute_result"
    }
   ],
   "source": [
    "train = pd.read_csv('cleaned_train.csv')\n",
    "train"
   ]
  },
  {
   "cell_type": "code",
   "execution_count": 3,
   "id": "56f26d79",
   "metadata": {},
   "outputs": [
    {
     "data": {
      "text/html": [
       "<div>\n",
       "<style scoped>\n",
       "    .dataframe tbody tr th:only-of-type {\n",
       "        vertical-align: middle;\n",
       "    }\n",
       "\n",
       "    .dataframe tbody tr th {\n",
       "        vertical-align: top;\n",
       "    }\n",
       "\n",
       "    .dataframe thead th {\n",
       "        text-align: right;\n",
       "    }\n",
       "</style>\n",
       "<table border=\"1\" class=\"dataframe\">\n",
       "  <thead>\n",
       "    <tr style=\"text-align: right;\">\n",
       "      <th></th>\n",
       "      <th>academics__program_assoc_business_marketing</th>\n",
       "      <th>academics__program_assoc_health</th>\n",
       "      <th>academics__program_bachelors_business_marketing</th>\n",
       "      <th>academics__program_certificate_lt_1_yr_health</th>\n",
       "      <th>academics__program_certificate_lt_2_yr_business_marketing</th>\n",
       "      <th>academics__program_certificate_lt_2_yr_health</th>\n",
       "      <th>academics__program_percentage_biological</th>\n",
       "      <th>academics__program_percentage_business_marketing</th>\n",
       "      <th>academics__program_percentage_communication</th>\n",
       "      <th>academics__program_percentage_computer</th>\n",
       "      <th>...</th>\n",
       "      <th>school__region_id_Outlying Areas (AS, FM, GU, MH, MP, PR, PW, VI)</th>\n",
       "      <th>school__region_id_Plains (IA, KS, MN, MO, NE, ND, SD)</th>\n",
       "      <th>school__region_id_Rocky Mountains (CO, ID, MT, UT, WY)</th>\n",
       "      <th>school__region_id_Southeast (AL, AR, FL, GA, KY, LA, MS, NC, SC, TN, VA, WV)</th>\n",
       "      <th>school__region_id_Southwest (AZ, NM, OK, TX)</th>\n",
       "      <th>report_year_year_a</th>\n",
       "      <th>report_year_year_f</th>\n",
       "      <th>report_year_year_w</th>\n",
       "      <th>report_year_year_z</th>\n",
       "      <th>income</th>\n",
       "    </tr>\n",
       "    <tr>\n",
       "      <th>row_id</th>\n",
       "      <th></th>\n",
       "      <th></th>\n",
       "      <th></th>\n",
       "      <th></th>\n",
       "      <th></th>\n",
       "      <th></th>\n",
       "      <th></th>\n",
       "      <th></th>\n",
       "      <th></th>\n",
       "      <th></th>\n",
       "      <th></th>\n",
       "      <th></th>\n",
       "      <th></th>\n",
       "      <th></th>\n",
       "      <th></th>\n",
       "      <th></th>\n",
       "      <th></th>\n",
       "      <th></th>\n",
       "      <th></th>\n",
       "      <th></th>\n",
       "      <th></th>\n",
       "    </tr>\n",
       "  </thead>\n",
       "  <tbody>\n",
       "    <tr>\n",
       "      <th>0</th>\n",
       "      <td>0.0</td>\n",
       "      <td>0.0</td>\n",
       "      <td>0.0</td>\n",
       "      <td>0.0</td>\n",
       "      <td>0.0</td>\n",
       "      <td>0.0</td>\n",
       "      <td>0.0000</td>\n",
       "      <td>0.0000</td>\n",
       "      <td>0.0000</td>\n",
       "      <td>0.0000</td>\n",
       "      <td>...</td>\n",
       "      <td>0</td>\n",
       "      <td>0</td>\n",
       "      <td>0</td>\n",
       "      <td>1</td>\n",
       "      <td>0</td>\n",
       "      <td>1</td>\n",
       "      <td>0</td>\n",
       "      <td>0</td>\n",
       "      <td>0</td>\n",
       "      <td>46.9</td>\n",
       "    </tr>\n",
       "    <tr>\n",
       "      <th>1</th>\n",
       "      <td>0.0</td>\n",
       "      <td>0.0</td>\n",
       "      <td>0.0</td>\n",
       "      <td>0.0</td>\n",
       "      <td>0.0</td>\n",
       "      <td>0.0</td>\n",
       "      <td>0.0000</td>\n",
       "      <td>0.0000</td>\n",
       "      <td>0.0000</td>\n",
       "      <td>0.0000</td>\n",
       "      <td>...</td>\n",
       "      <td>0</td>\n",
       "      <td>0</td>\n",
       "      <td>0</td>\n",
       "      <td>0</td>\n",
       "      <td>0</td>\n",
       "      <td>0</td>\n",
       "      <td>1</td>\n",
       "      <td>0</td>\n",
       "      <td>0</td>\n",
       "      <td>26.7</td>\n",
       "    </tr>\n",
       "    <tr>\n",
       "      <th>2</th>\n",
       "      <td>0.0</td>\n",
       "      <td>0.0</td>\n",
       "      <td>0.0</td>\n",
       "      <td>1.0</td>\n",
       "      <td>0.0</td>\n",
       "      <td>1.0</td>\n",
       "      <td>0.0000</td>\n",
       "      <td>0.0000</td>\n",
       "      <td>0.0000</td>\n",
       "      <td>0.0000</td>\n",
       "      <td>...</td>\n",
       "      <td>0</td>\n",
       "      <td>0</td>\n",
       "      <td>0</td>\n",
       "      <td>1</td>\n",
       "      <td>0</td>\n",
       "      <td>0</td>\n",
       "      <td>0</td>\n",
       "      <td>0</td>\n",
       "      <td>1</td>\n",
       "      <td>28.1</td>\n",
       "    </tr>\n",
       "    <tr>\n",
       "      <th>3</th>\n",
       "      <td>1.0</td>\n",
       "      <td>0.0</td>\n",
       "      <td>1.0</td>\n",
       "      <td>0.0</td>\n",
       "      <td>0.0</td>\n",
       "      <td>0.0</td>\n",
       "      <td>0.0705</td>\n",
       "      <td>0.4108</td>\n",
       "      <td>0.0104</td>\n",
       "      <td>0.0436</td>\n",
       "      <td>...</td>\n",
       "      <td>0</td>\n",
       "      <td>1</td>\n",
       "      <td>0</td>\n",
       "      <td>0</td>\n",
       "      <td>0</td>\n",
       "      <td>0</td>\n",
       "      <td>1</td>\n",
       "      <td>0</td>\n",
       "      <td>0</td>\n",
       "      <td>41.6</td>\n",
       "    </tr>\n",
       "    <tr>\n",
       "      <th>4</th>\n",
       "      <td>0.0</td>\n",
       "      <td>0.0</td>\n",
       "      <td>1.0</td>\n",
       "      <td>1.0</td>\n",
       "      <td>0.0</td>\n",
       "      <td>0.0</td>\n",
       "      <td>0.0459</td>\n",
       "      <td>0.2184</td>\n",
       "      <td>0.0515</td>\n",
       "      <td>0.0362</td>\n",
       "      <td>...</td>\n",
       "      <td>0</td>\n",
       "      <td>0</td>\n",
       "      <td>0</td>\n",
       "      <td>0</td>\n",
       "      <td>0</td>\n",
       "      <td>1</td>\n",
       "      <td>0</td>\n",
       "      <td>0</td>\n",
       "      <td>0</td>\n",
       "      <td>34.3</td>\n",
       "    </tr>\n",
       "    <tr>\n",
       "      <th>...</th>\n",
       "      <td>...</td>\n",
       "      <td>...</td>\n",
       "      <td>...</td>\n",
       "      <td>...</td>\n",
       "      <td>...</td>\n",
       "      <td>...</td>\n",
       "      <td>...</td>\n",
       "      <td>...</td>\n",
       "      <td>...</td>\n",
       "      <td>...</td>\n",
       "      <td>...</td>\n",
       "      <td>...</td>\n",
       "      <td>...</td>\n",
       "      <td>...</td>\n",
       "      <td>...</td>\n",
       "      <td>...</td>\n",
       "      <td>...</td>\n",
       "      <td>...</td>\n",
       "      <td>...</td>\n",
       "      <td>...</td>\n",
       "      <td>...</td>\n",
       "    </tr>\n",
       "    <tr>\n",
       "      <th>17008</th>\n",
       "      <td>1.0</td>\n",
       "      <td>0.0</td>\n",
       "      <td>0.0</td>\n",
       "      <td>0.0</td>\n",
       "      <td>1.0</td>\n",
       "      <td>0.0</td>\n",
       "      <td>0.0000</td>\n",
       "      <td>1.0000</td>\n",
       "      <td>0.0000</td>\n",
       "      <td>0.0000</td>\n",
       "      <td>...</td>\n",
       "      <td>0</td>\n",
       "      <td>0</td>\n",
       "      <td>0</td>\n",
       "      <td>0</td>\n",
       "      <td>0</td>\n",
       "      <td>0</td>\n",
       "      <td>0</td>\n",
       "      <td>0</td>\n",
       "      <td>1</td>\n",
       "      <td>19.5</td>\n",
       "    </tr>\n",
       "    <tr>\n",
       "      <th>17009</th>\n",
       "      <td>1.0</td>\n",
       "      <td>1.0</td>\n",
       "      <td>0.0</td>\n",
       "      <td>1.0</td>\n",
       "      <td>1.0</td>\n",
       "      <td>1.0</td>\n",
       "      <td>0.0000</td>\n",
       "      <td>0.0307</td>\n",
       "      <td>0.0000</td>\n",
       "      <td>0.0921</td>\n",
       "      <td>...</td>\n",
       "      <td>0</td>\n",
       "      <td>0</td>\n",
       "      <td>0</td>\n",
       "      <td>1</td>\n",
       "      <td>0</td>\n",
       "      <td>0</td>\n",
       "      <td>1</td>\n",
       "      <td>0</td>\n",
       "      <td>0</td>\n",
       "      <td>20.7</td>\n",
       "    </tr>\n",
       "    <tr>\n",
       "      <th>17010</th>\n",
       "      <td>0.0</td>\n",
       "      <td>1.0</td>\n",
       "      <td>0.0</td>\n",
       "      <td>1.0</td>\n",
       "      <td>0.0</td>\n",
       "      <td>0.0</td>\n",
       "      <td>0.0000</td>\n",
       "      <td>0.0000</td>\n",
       "      <td>0.0000</td>\n",
       "      <td>0.0000</td>\n",
       "      <td>...</td>\n",
       "      <td>0</td>\n",
       "      <td>0</td>\n",
       "      <td>0</td>\n",
       "      <td>0</td>\n",
       "      <td>0</td>\n",
       "      <td>0</td>\n",
       "      <td>1</td>\n",
       "      <td>0</td>\n",
       "      <td>0</td>\n",
       "      <td>28.0</td>\n",
       "    </tr>\n",
       "    <tr>\n",
       "      <th>17011</th>\n",
       "      <td>0.0</td>\n",
       "      <td>0.0</td>\n",
       "      <td>0.0</td>\n",
       "      <td>1.0</td>\n",
       "      <td>0.0</td>\n",
       "      <td>0.0</td>\n",
       "      <td>0.0000</td>\n",
       "      <td>0.0000</td>\n",
       "      <td>0.0000</td>\n",
       "      <td>0.0000</td>\n",
       "      <td>...</td>\n",
       "      <td>0</td>\n",
       "      <td>0</td>\n",
       "      <td>0</td>\n",
       "      <td>0</td>\n",
       "      <td>0</td>\n",
       "      <td>0</td>\n",
       "      <td>0</td>\n",
       "      <td>1</td>\n",
       "      <td>0</td>\n",
       "      <td>22.4</td>\n",
       "    </tr>\n",
       "    <tr>\n",
       "      <th>17012</th>\n",
       "      <td>0.0</td>\n",
       "      <td>0.0</td>\n",
       "      <td>0.0</td>\n",
       "      <td>1.0</td>\n",
       "      <td>1.0</td>\n",
       "      <td>1.0</td>\n",
       "      <td>0.0000</td>\n",
       "      <td>0.0981</td>\n",
       "      <td>0.0000</td>\n",
       "      <td>0.0321</td>\n",
       "      <td>...</td>\n",
       "      <td>0</td>\n",
       "      <td>0</td>\n",
       "      <td>0</td>\n",
       "      <td>1</td>\n",
       "      <td>0</td>\n",
       "      <td>0</td>\n",
       "      <td>0</td>\n",
       "      <td>0</td>\n",
       "      <td>1</td>\n",
       "      <td>24.8</td>\n",
       "    </tr>\n",
       "  </tbody>\n",
       "</table>\n",
       "<p>17013 rows × 72 columns</p>\n",
       "</div>"
      ],
      "text/plain": [
       "        academics__program_assoc_business_marketing  \\\n",
       "row_id                                                \n",
       "0                                               0.0   \n",
       "1                                               0.0   \n",
       "2                                               0.0   \n",
       "3                                               1.0   \n",
       "4                                               0.0   \n",
       "...                                             ...   \n",
       "17008                                           1.0   \n",
       "17009                                           1.0   \n",
       "17010                                           0.0   \n",
       "17011                                           0.0   \n",
       "17012                                           0.0   \n",
       "\n",
       "        academics__program_assoc_health  \\\n",
       "row_id                                    \n",
       "0                                   0.0   \n",
       "1                                   0.0   \n",
       "2                                   0.0   \n",
       "3                                   0.0   \n",
       "4                                   0.0   \n",
       "...                                 ...   \n",
       "17008                               0.0   \n",
       "17009                               1.0   \n",
       "17010                               1.0   \n",
       "17011                               0.0   \n",
       "17012                               0.0   \n",
       "\n",
       "        academics__program_bachelors_business_marketing  \\\n",
       "row_id                                                    \n",
       "0                                                   0.0   \n",
       "1                                                   0.0   \n",
       "2                                                   0.0   \n",
       "3                                                   1.0   \n",
       "4                                                   1.0   \n",
       "...                                                 ...   \n",
       "17008                                               0.0   \n",
       "17009                                               0.0   \n",
       "17010                                               0.0   \n",
       "17011                                               0.0   \n",
       "17012                                               0.0   \n",
       "\n",
       "        academics__program_certificate_lt_1_yr_health  \\\n",
       "row_id                                                  \n",
       "0                                                 0.0   \n",
       "1                                                 0.0   \n",
       "2                                                 1.0   \n",
       "3                                                 0.0   \n",
       "4                                                 1.0   \n",
       "...                                               ...   \n",
       "17008                                             0.0   \n",
       "17009                                             1.0   \n",
       "17010                                             1.0   \n",
       "17011                                             1.0   \n",
       "17012                                             1.0   \n",
       "\n",
       "        academics__program_certificate_lt_2_yr_business_marketing  \\\n",
       "row_id                                                              \n",
       "0                                                     0.0           \n",
       "1                                                     0.0           \n",
       "2                                                     0.0           \n",
       "3                                                     0.0           \n",
       "4                                                     0.0           \n",
       "...                                                   ...           \n",
       "17008                                                 1.0           \n",
       "17009                                                 1.0           \n",
       "17010                                                 0.0           \n",
       "17011                                                 0.0           \n",
       "17012                                                 1.0           \n",
       "\n",
       "        academics__program_certificate_lt_2_yr_health  \\\n",
       "row_id                                                  \n",
       "0                                                 0.0   \n",
       "1                                                 0.0   \n",
       "2                                                 1.0   \n",
       "3                                                 0.0   \n",
       "4                                                 0.0   \n",
       "...                                               ...   \n",
       "17008                                             0.0   \n",
       "17009                                             1.0   \n",
       "17010                                             0.0   \n",
       "17011                                             0.0   \n",
       "17012                                             1.0   \n",
       "\n",
       "        academics__program_percentage_biological  \\\n",
       "row_id                                             \n",
       "0                                         0.0000   \n",
       "1                                         0.0000   \n",
       "2                                         0.0000   \n",
       "3                                         0.0705   \n",
       "4                                         0.0459   \n",
       "...                                          ...   \n",
       "17008                                     0.0000   \n",
       "17009                                     0.0000   \n",
       "17010                                     0.0000   \n",
       "17011                                     0.0000   \n",
       "17012                                     0.0000   \n",
       "\n",
       "        academics__program_percentage_business_marketing  \\\n",
       "row_id                                                     \n",
       "0                                                 0.0000   \n",
       "1                                                 0.0000   \n",
       "2                                                 0.0000   \n",
       "3                                                 0.4108   \n",
       "4                                                 0.2184   \n",
       "...                                                  ...   \n",
       "17008                                             1.0000   \n",
       "17009                                             0.0307   \n",
       "17010                                             0.0000   \n",
       "17011                                             0.0000   \n",
       "17012                                             0.0981   \n",
       "\n",
       "        academics__program_percentage_communication  \\\n",
       "row_id                                                \n",
       "0                                            0.0000   \n",
       "1                                            0.0000   \n",
       "2                                            0.0000   \n",
       "3                                            0.0104   \n",
       "4                                            0.0515   \n",
       "...                                             ...   \n",
       "17008                                        0.0000   \n",
       "17009                                        0.0000   \n",
       "17010                                        0.0000   \n",
       "17011                                        0.0000   \n",
       "17012                                        0.0000   \n",
       "\n",
       "        academics__program_percentage_computer  ...  \\\n",
       "row_id                                          ...   \n",
       "0                                       0.0000  ...   \n",
       "1                                       0.0000  ...   \n",
       "2                                       0.0000  ...   \n",
       "3                                       0.0436  ...   \n",
       "4                                       0.0362  ...   \n",
       "...                                        ...  ...   \n",
       "17008                                   0.0000  ...   \n",
       "17009                                   0.0921  ...   \n",
       "17010                                   0.0000  ...   \n",
       "17011                                   0.0000  ...   \n",
       "17012                                   0.0321  ...   \n",
       "\n",
       "        school__region_id_Outlying Areas (AS, FM, GU, MH, MP, PR, PW, VI)  \\\n",
       "row_id                                                                      \n",
       "0                                                       0                   \n",
       "1                                                       0                   \n",
       "2                                                       0                   \n",
       "3                                                       0                   \n",
       "4                                                       0                   \n",
       "...                                                   ...                   \n",
       "17008                                                   0                   \n",
       "17009                                                   0                   \n",
       "17010                                                   0                   \n",
       "17011                                                   0                   \n",
       "17012                                                   0                   \n",
       "\n",
       "        school__region_id_Plains (IA, KS, MN, MO, NE, ND, SD)  \\\n",
       "row_id                                                          \n",
       "0                                                       0       \n",
       "1                                                       0       \n",
       "2                                                       0       \n",
       "3                                                       1       \n",
       "4                                                       0       \n",
       "...                                                   ...       \n",
       "17008                                                   0       \n",
       "17009                                                   0       \n",
       "17010                                                   0       \n",
       "17011                                                   0       \n",
       "17012                                                   0       \n",
       "\n",
       "        school__region_id_Rocky Mountains (CO, ID, MT, UT, WY)  \\\n",
       "row_id                                                           \n",
       "0                                                       0        \n",
       "1                                                       0        \n",
       "2                                                       0        \n",
       "3                                                       0        \n",
       "4                                                       0        \n",
       "...                                                   ...        \n",
       "17008                                                   0        \n",
       "17009                                                   0        \n",
       "17010                                                   0        \n",
       "17011                                                   0        \n",
       "17012                                                   0        \n",
       "\n",
       "        school__region_id_Southeast (AL, AR, FL, GA, KY, LA, MS, NC, SC, TN, VA, WV)  \\\n",
       "row_id                                                                                 \n",
       "0                                                       1                              \n",
       "1                                                       0                              \n",
       "2                                                       1                              \n",
       "3                                                       0                              \n",
       "4                                                       0                              \n",
       "...                                                   ...                              \n",
       "17008                                                   0                              \n",
       "17009                                                   1                              \n",
       "17010                                                   0                              \n",
       "17011                                                   0                              \n",
       "17012                                                   1                              \n",
       "\n",
       "        school__region_id_Southwest (AZ, NM, OK, TX)  report_year_year_a  \\\n",
       "row_id                                                                     \n",
       "0                                                  0                   1   \n",
       "1                                                  0                   0   \n",
       "2                                                  0                   0   \n",
       "3                                                  0                   0   \n",
       "4                                                  0                   1   \n",
       "...                                              ...                 ...   \n",
       "17008                                              0                   0   \n",
       "17009                                              0                   0   \n",
       "17010                                              0                   0   \n",
       "17011                                              0                   0   \n",
       "17012                                              0                   0   \n",
       "\n",
       "        report_year_year_f  report_year_year_w  report_year_year_z  income  \n",
       "row_id                                                                      \n",
       "0                        0                   0                   0    46.9  \n",
       "1                        1                   0                   0    26.7  \n",
       "2                        0                   0                   1    28.1  \n",
       "3                        1                   0                   0    41.6  \n",
       "4                        0                   0                   0    34.3  \n",
       "...                    ...                 ...                 ...     ...  \n",
       "17008                    0                   0                   1    19.5  \n",
       "17009                    1                   0                   0    20.7  \n",
       "17010                    1                   0                   0    28.0  \n",
       "17011                    0                   1                   0    22.4  \n",
       "17012                    0                   0                   1    24.8  \n",
       "\n",
       "[17013 rows x 72 columns]"
      ]
     },
     "execution_count": 3,
     "metadata": {},
     "output_type": "execute_result"
    }
   ],
   "source": [
    "train.index.name='row_id'\n",
    "train"
   ]
  },
  {
   "cell_type": "code",
   "execution_count": 4,
   "id": "8bc40add",
   "metadata": {},
   "outputs": [
    {
     "name": "stdout",
     "output_type": "stream",
     "text": [
      "Rows: 17013\n",
      "Columns: 72\n",
      "Missing values: 0\n",
      "Duplicated rows: 0\n"
     ]
    }
   ],
   "source": [
    "# EDA for train data checking data shape, missing values and duplicates\n",
    "print(f\"Rows: {train.shape[0]}\")\n",
    "print(f\"Columns: {train.shape[1]}\")\n",
    "print(f\"Missing values: {train.isna().sum().sum()}\")\n",
    "print(f\"Duplicated rows: {train.duplicated().sum()}\")"
   ]
  },
  {
   "cell_type": "markdown",
   "id": "ca302376",
   "metadata": {},
   "source": [
    "**OBSERVATIONS:**\n",
    "- The df contains 17,013 rows and 73 columns ready for modeling\n",
    "- Go ahead and define the features and target variables"
   ]
  },
  {
   "cell_type": "code",
   "execution_count": 5,
   "id": "6429c4dd",
   "metadata": {},
   "outputs": [],
   "source": [
    "# Define the features(X) and target(y) variables for the train set\n",
    "\n",
    "X = train.drop(columns='income')\n",
    "y = train['income']"
   ]
  },
  {
   "cell_type": "code",
   "execution_count": 6,
   "id": "199d50f2",
   "metadata": {},
   "outputs": [],
   "source": [
    "# Do a train-test split\n",
    "X_train, X_test, y_train, y_test = train_test_split(X, y, test_size=0.2, random_state=42)"
   ]
  },
  {
   "cell_type": "markdown",
   "id": "2dd4d58f",
   "metadata": {},
   "source": [
    "## HYPERPARAMETER TUNING FOR DIFFERENT MODELS\n",
    "### FITTING A DECISION TREE REGRESSOR MODEL\n",
    "\n",
    "**Methodology:**\n",
    "- Create a pipeline\n",
    "- List the hyperparameters for tuning\n",
    "- Insert hyperparameter into pipeline and do a Grid search for best model\n",
    "- Fit the best model and check the model scores"
   ]
  },
  {
   "cell_type": "code",
   "execution_count": 7,
   "id": "e81e6d74",
   "metadata": {},
   "outputs": [],
   "source": [
    "# Set up a directory to cache the pipeline results\n",
    "cachedir = mkdtemp()\n",
    "\n",
    "# Set up a pipeline\n",
    "\n",
    "# Create placeholders for DT step\n",
    "estimators = [\n",
    "    ('scaler', StandardScaler()),\n",
    "    ('model', DecisionTreeRegressor())\n",
    "]\n",
    "\n",
    "pipe = Pipeline(estimators, memory=cachedir)"
   ]
  },
  {
   "cell_type": "code",
   "execution_count": 8,
   "id": "bb88c14f",
   "metadata": {},
   "outputs": [
    {
     "data": {
      "text/html": [
       "<style>div.sk-top-container {color: black;background-color: white;}div.sk-toggleable {background-color: white;}label.sk-toggleable__label {cursor: pointer;display: block;width: 100%;margin-bottom: 0;padding: 0.2em 0.3em;box-sizing: border-box;text-align: center;}div.sk-toggleable__content {max-height: 0;max-width: 0;overflow: hidden;text-align: left;background-color: #f0f8ff;}div.sk-toggleable__content pre {margin: 0.2em;color: black;border-radius: 0.25em;background-color: #f0f8ff;}input.sk-toggleable__control:checked~div.sk-toggleable__content {max-height: 200px;max-width: 100%;overflow: auto;}div.sk-estimator input.sk-toggleable__control:checked~label.sk-toggleable__label {background-color: #d4ebff;}div.sk-label input.sk-toggleable__control:checked~label.sk-toggleable__label {background-color: #d4ebff;}input.sk-hidden--visually {border: 0;clip: rect(1px 1px 1px 1px);clip: rect(1px, 1px, 1px, 1px);height: 1px;margin: -1px;overflow: hidden;padding: 0;position: absolute;width: 1px;}div.sk-estimator {font-family: monospace;background-color: #f0f8ff;margin: 0.25em 0.25em;border: 1px dotted black;border-radius: 0.25em;box-sizing: border-box;}div.sk-estimator:hover {background-color: #d4ebff;}div.sk-parallel-item::after {content: \"\";width: 100%;border-bottom: 1px solid gray;flex-grow: 1;}div.sk-label:hover label.sk-toggleable__label {background-color: #d4ebff;}div.sk-serial::before {content: \"\";position: absolute;border-left: 1px solid gray;box-sizing: border-box;top: 2em;bottom: 0;left: 50%;}div.sk-serial {display: flex;flex-direction: column;align-items: center;background-color: white;}div.sk-item {z-index: 1;}div.sk-parallel {display: flex;align-items: stretch;justify-content: center;background-color: white;}div.sk-parallel-item {display: flex;flex-direction: column;position: relative;background-color: white;}div.sk-parallel-item:first-child::after {align-self: flex-end;width: 50%;}div.sk-parallel-item:last-child::after {align-self: flex-start;width: 50%;}div.sk-parallel-item:only-child::after {width: 0;}div.sk-dashed-wrapped {border: 1px dashed gray;margin: 0.2em;box-sizing: border-box;padding-bottom: 0.1em;background-color: white;position: relative;}div.sk-label label {font-family: monospace;font-weight: bold;background-color: white;display: inline-block;line-height: 1.2em;}div.sk-label-container {position: relative;z-index: 2;text-align: center;}div.sk-container {display: inline-block;position: relative;}</style><div class=\"sk-top-container\"><div class=\"sk-container\"><div class=\"sk-item sk-dashed-wrapped\"><div class=\"sk-label-container\"><div class=\"sk-label sk-toggleable\"><input class=\"sk-toggleable__control sk-hidden--visually\" id=\"d7a64f3f-7dd0-4c61-969a-a791aa5d8f6d\" type=\"checkbox\" ><label class=\"sk-toggleable__label\" for=\"d7a64f3f-7dd0-4c61-969a-a791aa5d8f6d\">Pipeline</label><div class=\"sk-toggleable__content\"><pre>Pipeline(memory='C:\\\\Users\\\\audre\\\\AppData\\\\Local\\\\Temp\\\\tmp2ag80xg9',\n",
       "         steps=[('scaler', StandardScaler()),\n",
       "                ('model', DecisionTreeRegressor())])</pre></div></div></div><div class=\"sk-serial\"><div class=\"sk-item\"><div class=\"sk-estimator sk-toggleable\"><input class=\"sk-toggleable__control sk-hidden--visually\" id=\"2c5a3dea-b352-4857-8ff2-8453c49dc98b\" type=\"checkbox\" ><label class=\"sk-toggleable__label\" for=\"2c5a3dea-b352-4857-8ff2-8453c49dc98b\">StandardScaler</label><div class=\"sk-toggleable__content\"><pre>StandardScaler()</pre></div></div></div><div class=\"sk-item\"><div class=\"sk-estimator sk-toggleable\"><input class=\"sk-toggleable__control sk-hidden--visually\" id=\"62c206c1-7c96-4e13-a02a-795af6a71b6e\" type=\"checkbox\" ><label class=\"sk-toggleable__label\" for=\"62c206c1-7c96-4e13-a02a-795af6a71b6e\">DecisionTreeRegressor</label><div class=\"sk-toggleable__content\"><pre>DecisionTreeRegressor()</pre></div></div></div></div></div></div></div>"
      ],
      "text/plain": [
       "Pipeline(memory='C:\\\\Users\\\\audre\\\\AppData\\\\Local\\\\Temp\\\\tmp2ag80xg9',\n",
       "         steps=[('scaler', StandardScaler()),\n",
       "                ('model', DecisionTreeRegressor())])"
      ]
     },
     "execution_count": 8,
     "metadata": {},
     "output_type": "execute_result"
    }
   ],
   "source": [
    "# Visualize the pipeline\n",
    "set_config(display=\"diagram\")\n",
    "pipe  # click on the diagram below to see the details of each step"
   ]
  },
  {
   "cell_type": "code",
   "execution_count": 9,
   "id": "6133d1d9",
   "metadata": {},
   "outputs": [
    {
     "name": "stdout",
     "output_type": "stream",
     "text": [
      "Fitting 5 folds for each of 4000 candidates, totalling 20000 fits\n"
     ]
    }
   ],
   "source": [
    "# Define the parameters for the DT grid search\n",
    "param_grid = [{\n",
    "        'scaler': [StandardScaler(), None],\n",
    "        'model': [DecisionTreeRegressor()], \n",
    "        'model__max_depth' : [1,3,5,7,9],\n",
    "        'model__min_samples_leaf' : [3,4,5,6,7],\n",
    "        'model__min_weight_fraction_leaf' : [0.1,0.2,0.3,0.4],\n",
    "        'model__max_features' : [\"auto\",\"log2\",\"sqrt\",None],\n",
    "        'model__max_leaf_nodes':[None,10,20,30,40]\n",
    "    }\n",
    "]\n",
    "\n",
    "DTgrid = GridSearchCV(pipe, param_grid, scoring='neg_mean_absolute_error', n_jobs=-1, cv=5, verbose=5)\n",
    "\n",
    "DTfittedgrid = DTgrid.fit(X_train, y_train)"
   ]
  },
  {
   "cell_type": "code",
   "execution_count": 10,
   "id": "79fefe50",
   "metadata": {},
   "outputs": [
    {
     "data": {
      "text/html": [
       "<style>div.sk-top-container {color: black;background-color: white;}div.sk-toggleable {background-color: white;}label.sk-toggleable__label {cursor: pointer;display: block;width: 100%;margin-bottom: 0;padding: 0.2em 0.3em;box-sizing: border-box;text-align: center;}div.sk-toggleable__content {max-height: 0;max-width: 0;overflow: hidden;text-align: left;background-color: #f0f8ff;}div.sk-toggleable__content pre {margin: 0.2em;color: black;border-radius: 0.25em;background-color: #f0f8ff;}input.sk-toggleable__control:checked~div.sk-toggleable__content {max-height: 200px;max-width: 100%;overflow: auto;}div.sk-estimator input.sk-toggleable__control:checked~label.sk-toggleable__label {background-color: #d4ebff;}div.sk-label input.sk-toggleable__control:checked~label.sk-toggleable__label {background-color: #d4ebff;}input.sk-hidden--visually {border: 0;clip: rect(1px 1px 1px 1px);clip: rect(1px, 1px, 1px, 1px);height: 1px;margin: -1px;overflow: hidden;padding: 0;position: absolute;width: 1px;}div.sk-estimator {font-family: monospace;background-color: #f0f8ff;margin: 0.25em 0.25em;border: 1px dotted black;border-radius: 0.25em;box-sizing: border-box;}div.sk-estimator:hover {background-color: #d4ebff;}div.sk-parallel-item::after {content: \"\";width: 100%;border-bottom: 1px solid gray;flex-grow: 1;}div.sk-label:hover label.sk-toggleable__label {background-color: #d4ebff;}div.sk-serial::before {content: \"\";position: absolute;border-left: 1px solid gray;box-sizing: border-box;top: 2em;bottom: 0;left: 50%;}div.sk-serial {display: flex;flex-direction: column;align-items: center;background-color: white;}div.sk-item {z-index: 1;}div.sk-parallel {display: flex;align-items: stretch;justify-content: center;background-color: white;}div.sk-parallel-item {display: flex;flex-direction: column;position: relative;background-color: white;}div.sk-parallel-item:first-child::after {align-self: flex-end;width: 50%;}div.sk-parallel-item:last-child::after {align-self: flex-start;width: 50%;}div.sk-parallel-item:only-child::after {width: 0;}div.sk-dashed-wrapped {border: 1px dashed gray;margin: 0.2em;box-sizing: border-box;padding-bottom: 0.1em;background-color: white;position: relative;}div.sk-label label {font-family: monospace;font-weight: bold;background-color: white;display: inline-block;line-height: 1.2em;}div.sk-label-container {position: relative;z-index: 2;text-align: center;}div.sk-container {display: inline-block;position: relative;}</style><div class=\"sk-top-container\"><div class=\"sk-container\"><div class=\"sk-item sk-dashed-wrapped\"><div class=\"sk-label-container\"><div class=\"sk-label sk-toggleable\"><input class=\"sk-toggleable__control sk-hidden--visually\" id=\"3145cc72-ff02-4811-b9d7-4637aaa87981\" type=\"checkbox\" ><label class=\"sk-toggleable__label\" for=\"3145cc72-ff02-4811-b9d7-4637aaa87981\">Pipeline</label><div class=\"sk-toggleable__content\"><pre>Pipeline(memory='C:\\\\Users\\\\audre\\\\AppData\\\\Local\\\\Temp\\\\tmp2ag80xg9',\n",
       "         steps=[('scaler', None),\n",
       "                ('model',\n",
       "                 DecisionTreeRegressor(max_depth=3, max_features='auto',\n",
       "                                       max_leaf_nodes=20, min_samples_leaf=4,\n",
       "                                       min_weight_fraction_leaf=0.1))])</pre></div></div></div><div class=\"sk-serial\"><div class=\"sk-item\"><div class=\"sk-estimator sk-toggleable\"><input class=\"sk-toggleable__control sk-hidden--visually\" id=\"84b4f562-ffb8-490f-99a9-f0bb3c32e8c7\" type=\"checkbox\" ><label class=\"sk-toggleable__label\" for=\"84b4f562-ffb8-490f-99a9-f0bb3c32e8c7\">None</label><div class=\"sk-toggleable__content\"><pre>None</pre></div></div></div><div class=\"sk-item\"><div class=\"sk-estimator sk-toggleable\"><input class=\"sk-toggleable__control sk-hidden--visually\" id=\"db21a299-f88f-42f9-b381-9f00f8d67a65\" type=\"checkbox\" ><label class=\"sk-toggleable__label\" for=\"db21a299-f88f-42f9-b381-9f00f8d67a65\">DecisionTreeRegressor</label><div class=\"sk-toggleable__content\"><pre>DecisionTreeRegressor(max_depth=3, max_features='auto', max_leaf_nodes=20,\n",
       "                      min_samples_leaf=4, min_weight_fraction_leaf=0.1)</pre></div></div></div></div></div></div></div>"
      ],
      "text/plain": [
       "Pipeline(memory='C:\\\\Users\\\\audre\\\\AppData\\\\Local\\\\Temp\\\\tmp2ag80xg9',\n",
       "         steps=[('scaler', None),\n",
       "                ('model',\n",
       "                 DecisionTreeRegressor(max_depth=3, max_features='auto',\n",
       "                                       max_leaf_nodes=20, min_samples_leaf=4,\n",
       "                                       min_weight_fraction_leaf=0.1))])"
      ]
     },
     "execution_count": 10,
     "metadata": {},
     "output_type": "execute_result"
    }
   ],
   "source": [
    "# Best estimator object\n",
    "DTfittedgrid.best_estimator_"
   ]
  },
  {
   "cell_type": "code",
   "execution_count": 11,
   "id": "31c992b3",
   "metadata": {},
   "outputs": [
    {
     "data": {
      "text/plain": [
       "{'model': DecisionTreeRegressor(max_depth=3, max_features='auto', max_leaf_nodes=20,\n",
       "                       min_samples_leaf=4, min_weight_fraction_leaf=0.1),\n",
       " 'model__max_depth': 3,\n",
       " 'model__max_features': 'auto',\n",
       " 'model__max_leaf_nodes': 20,\n",
       " 'model__min_samples_leaf': 4,\n",
       " 'model__min_weight_fraction_leaf': 0.1,\n",
       " 'scaler': None}"
      ]
     },
     "execution_count": 11,
     "metadata": {},
     "output_type": "execute_result"
    }
   ],
   "source": [
    "# Best hyperparameters for DT\n",
    "DTfittedgrid.best_params_"
   ]
  },
  {
   "cell_type": "code",
   "execution_count": 12,
   "id": "26346827",
   "metadata": {},
   "outputs": [
    {
     "data": {
      "text/plain": [
       "-5.772871580908385"
      ]
     },
     "execution_count": 12,
     "metadata": {},
     "output_type": "execute_result"
    }
   ],
   "source": [
    "# Best score for Decision Tree\n",
    "DTfittedgrid.best_score_"
   ]
  },
  {
   "cell_type": "code",
   "execution_count": 54,
   "id": "5d70cdd2",
   "metadata": {},
   "outputs": [],
   "source": [
    "tunedDT =  DecisionTreeRegressor(max_depth=3, max_features='auto', max_leaf_nodes=20,\n",
    "                       min_samples_leaf=4, min_weight_fraction_leaf=0.1)"
   ]
  },
  {
   "cell_type": "code",
   "execution_count": 55,
   "id": "7ec3cc7a",
   "metadata": {},
   "outputs": [
    {
     "data": {
      "text/html": [
       "<style>div.sk-top-container {color: black;background-color: white;}div.sk-toggleable {background-color: white;}label.sk-toggleable__label {cursor: pointer;display: block;width: 100%;margin-bottom: 0;padding: 0.2em 0.3em;box-sizing: border-box;text-align: center;}div.sk-toggleable__content {max-height: 0;max-width: 0;overflow: hidden;text-align: left;background-color: #f0f8ff;}div.sk-toggleable__content pre {margin: 0.2em;color: black;border-radius: 0.25em;background-color: #f0f8ff;}input.sk-toggleable__control:checked~div.sk-toggleable__content {max-height: 200px;max-width: 100%;overflow: auto;}div.sk-estimator input.sk-toggleable__control:checked~label.sk-toggleable__label {background-color: #d4ebff;}div.sk-label input.sk-toggleable__control:checked~label.sk-toggleable__label {background-color: #d4ebff;}input.sk-hidden--visually {border: 0;clip: rect(1px 1px 1px 1px);clip: rect(1px, 1px, 1px, 1px);height: 1px;margin: -1px;overflow: hidden;padding: 0;position: absolute;width: 1px;}div.sk-estimator {font-family: monospace;background-color: #f0f8ff;margin: 0.25em 0.25em;border: 1px dotted black;border-radius: 0.25em;box-sizing: border-box;}div.sk-estimator:hover {background-color: #d4ebff;}div.sk-parallel-item::after {content: \"\";width: 100%;border-bottom: 1px solid gray;flex-grow: 1;}div.sk-label:hover label.sk-toggleable__label {background-color: #d4ebff;}div.sk-serial::before {content: \"\";position: absolute;border-left: 1px solid gray;box-sizing: border-box;top: 2em;bottom: 0;left: 50%;}div.sk-serial {display: flex;flex-direction: column;align-items: center;background-color: white;}div.sk-item {z-index: 1;}div.sk-parallel {display: flex;align-items: stretch;justify-content: center;background-color: white;}div.sk-parallel-item {display: flex;flex-direction: column;position: relative;background-color: white;}div.sk-parallel-item:first-child::after {align-self: flex-end;width: 50%;}div.sk-parallel-item:last-child::after {align-self: flex-start;width: 50%;}div.sk-parallel-item:only-child::after {width: 0;}div.sk-dashed-wrapped {border: 1px dashed gray;margin: 0.2em;box-sizing: border-box;padding-bottom: 0.1em;background-color: white;position: relative;}div.sk-label label {font-family: monospace;font-weight: bold;background-color: white;display: inline-block;line-height: 1.2em;}div.sk-label-container {position: relative;z-index: 2;text-align: center;}div.sk-container {display: inline-block;position: relative;}</style><div class=\"sk-top-container\"><div class=\"sk-container\"><div class=\"sk-item\"><div class=\"sk-estimator sk-toggleable\"><input class=\"sk-toggleable__control sk-hidden--visually\" id=\"c6df8e72-a8a5-4d93-b229-d414aa5ee81e\" type=\"checkbox\" checked><label class=\"sk-toggleable__label\" for=\"c6df8e72-a8a5-4d93-b229-d414aa5ee81e\">DecisionTreeRegressor</label><div class=\"sk-toggleable__content\"><pre>DecisionTreeRegressor(max_depth=3, max_features='auto', max_leaf_nodes=20,\n",
       "                      min_samples_leaf=4, min_weight_fraction_leaf=0.1)</pre></div></div></div></div></div>"
      ],
      "text/plain": [
       "DecisionTreeRegressor(max_depth=3, max_features='auto', max_leaf_nodes=20,\n",
       "                      min_samples_leaf=4, min_weight_fraction_leaf=0.1)"
      ]
     },
     "execution_count": 55,
     "metadata": {},
     "output_type": "execute_result"
    }
   ],
   "source": [
    "# fitting the DT model\n",
    "\n",
    "\n",
    "tunedDT.fit(X_train,y_train)"
   ]
  },
  {
   "cell_type": "code",
   "execution_count": 56,
   "id": "bbeba88d",
   "metadata": {},
   "outputs": [],
   "source": [
    "# Model Predictions for train and validation set\n",
    "tuned_DTpred = tunedDT.predict(X_test)\n",
    "DT_train_pred = tunedDT.predict(X_train)"
   ]
  },
  {
   "cell_type": "code",
   "execution_count": 68,
   "id": "f8786db9",
   "metadata": {},
   "outputs": [
    {
     "name": "stdout",
     "output_type": "stream",
     "text": [
      "MAE: 5.4970397171940375\n",
      "MSE: 67.98931528120688\n",
      "RMSE: 8.245563369546492\n",
      "R2 for train set: 0.41394226822032687\n",
      "R2 for test set: 0.430037097524813\n"
     ]
    }
   ],
   "source": [
    "# List the model scores \n",
    "from sklearn import metrics\n",
    "\n",
    "print('MAE:', metrics.mean_absolute_error(y_test,tuned_DTpred))\n",
    "print('MSE:', metrics.mean_squared_error(y_test, tuned_DTpred))\n",
    "print('RMSE:', np.sqrt(metrics.mean_squared_error(y_test, tuned_DTpred)))\n",
    "print('R2 for train set:', r2_score(y_train, DT_train_pred))\n",
    "print('R2 for test set:', r2_score(y_test, tuned_DTpred))"
   ]
  },
  {
   "cell_type": "markdown",
   "id": "ac745293",
   "metadata": {},
   "source": [
    "**OBSERVATIONS:**\n",
    "- The R2 score for the train set is lower than the validation set, is the model overfitting or underfitting?\n",
    "- We do need a model with a low RMSE, the lower the better for a better prediction\n",
    "- We will go ahead and save the model best estimator to a pickle file for future use\n",
    "- We will also go ahead and do other model fitting on the data set"
   ]
  },
  {
   "cell_type": "code",
   "execution_count": 58,
   "id": "98c50c94",
   "metadata": {},
   "outputs": [
    {
     "data": {
      "text/plain": [
       "['pickled_best_DT.pkl']"
      ]
     },
     "execution_count": 58,
     "metadata": {},
     "output_type": "execute_result"
    }
   ],
   "source": [
    "# use joblib to pickle the best model for future use\n",
    "joblib.dump(DTfittedgrid.best_estimator_, 'pickled_best_DT.pkl')"
   ]
  },
  {
   "cell_type": "markdown",
   "id": "ee37b35e",
   "metadata": {},
   "source": [
    "## FITTING A LINEAR REGRESSION(RIDGE) MODEL\n",
    "**Methodology:**\n",
    "- Create a pipeline\n",
    "- List the hyperparameters for tuning\n",
    "- Insert hyperparameters into pipeline and do a Grid search for best model\n",
    "- Fit the best model and check the model scores"
   ]
  },
  {
   "cell_type": "code",
   "execution_count": 18,
   "id": "c28c91a4",
   "metadata": {},
   "outputs": [],
   "source": [
    "# Create placeholders for Ridge step\n",
    "estimators = [\n",
    "    ('scaler', StandardScaler()),\n",
    "    ('model', Ridge())\n",
    "]\n",
    "\n",
    "pipe = Pipeline(estimators, memory=cachedir)"
   ]
  },
  {
   "cell_type": "code",
   "execution_count": 19,
   "id": "386cd833",
   "metadata": {},
   "outputs": [
    {
     "data": {
      "text/html": [
       "<style>div.sk-top-container {color: black;background-color: white;}div.sk-toggleable {background-color: white;}label.sk-toggleable__label {cursor: pointer;display: block;width: 100%;margin-bottom: 0;padding: 0.2em 0.3em;box-sizing: border-box;text-align: center;}div.sk-toggleable__content {max-height: 0;max-width: 0;overflow: hidden;text-align: left;background-color: #f0f8ff;}div.sk-toggleable__content pre {margin: 0.2em;color: black;border-radius: 0.25em;background-color: #f0f8ff;}input.sk-toggleable__control:checked~div.sk-toggleable__content {max-height: 200px;max-width: 100%;overflow: auto;}div.sk-estimator input.sk-toggleable__control:checked~label.sk-toggleable__label {background-color: #d4ebff;}div.sk-label input.sk-toggleable__control:checked~label.sk-toggleable__label {background-color: #d4ebff;}input.sk-hidden--visually {border: 0;clip: rect(1px 1px 1px 1px);clip: rect(1px, 1px, 1px, 1px);height: 1px;margin: -1px;overflow: hidden;padding: 0;position: absolute;width: 1px;}div.sk-estimator {font-family: monospace;background-color: #f0f8ff;margin: 0.25em 0.25em;border: 1px dotted black;border-radius: 0.25em;box-sizing: border-box;}div.sk-estimator:hover {background-color: #d4ebff;}div.sk-parallel-item::after {content: \"\";width: 100%;border-bottom: 1px solid gray;flex-grow: 1;}div.sk-label:hover label.sk-toggleable__label {background-color: #d4ebff;}div.sk-serial::before {content: \"\";position: absolute;border-left: 1px solid gray;box-sizing: border-box;top: 2em;bottom: 0;left: 50%;}div.sk-serial {display: flex;flex-direction: column;align-items: center;background-color: white;}div.sk-item {z-index: 1;}div.sk-parallel {display: flex;align-items: stretch;justify-content: center;background-color: white;}div.sk-parallel-item {display: flex;flex-direction: column;position: relative;background-color: white;}div.sk-parallel-item:first-child::after {align-self: flex-end;width: 50%;}div.sk-parallel-item:last-child::after {align-self: flex-start;width: 50%;}div.sk-parallel-item:only-child::after {width: 0;}div.sk-dashed-wrapped {border: 1px dashed gray;margin: 0.2em;box-sizing: border-box;padding-bottom: 0.1em;background-color: white;position: relative;}div.sk-label label {font-family: monospace;font-weight: bold;background-color: white;display: inline-block;line-height: 1.2em;}div.sk-label-container {position: relative;z-index: 2;text-align: center;}div.sk-container {display: inline-block;position: relative;}</style><div class=\"sk-top-container\"><div class=\"sk-container\"><div class=\"sk-item sk-dashed-wrapped\"><div class=\"sk-label-container\"><div class=\"sk-label sk-toggleable\"><input class=\"sk-toggleable__control sk-hidden--visually\" id=\"f0ace51a-c689-4d7c-ad1c-36fab3140882\" type=\"checkbox\" ><label class=\"sk-toggleable__label\" for=\"f0ace51a-c689-4d7c-ad1c-36fab3140882\">Pipeline</label><div class=\"sk-toggleable__content\"><pre>Pipeline(memory='C:\\\\Users\\\\audre\\\\AppData\\\\Local\\\\Temp\\\\tmp2ag80xg9',\n",
       "         steps=[('scaler', StandardScaler()), ('model', Ridge())])</pre></div></div></div><div class=\"sk-serial\"><div class=\"sk-item\"><div class=\"sk-estimator sk-toggleable\"><input class=\"sk-toggleable__control sk-hidden--visually\" id=\"c3281ad1-563e-4a42-98d8-80b6ab18fbad\" type=\"checkbox\" ><label class=\"sk-toggleable__label\" for=\"c3281ad1-563e-4a42-98d8-80b6ab18fbad\">StandardScaler</label><div class=\"sk-toggleable__content\"><pre>StandardScaler()</pre></div></div></div><div class=\"sk-item\"><div class=\"sk-estimator sk-toggleable\"><input class=\"sk-toggleable__control sk-hidden--visually\" id=\"b2987f8f-58f3-4e7e-9a1b-812a9958c95d\" type=\"checkbox\" ><label class=\"sk-toggleable__label\" for=\"b2987f8f-58f3-4e7e-9a1b-812a9958c95d\">Ridge</label><div class=\"sk-toggleable__content\"><pre>Ridge()</pre></div></div></div></div></div></div></div>"
      ],
      "text/plain": [
       "Pipeline(memory='C:\\\\Users\\\\audre\\\\AppData\\\\Local\\\\Temp\\\\tmp2ag80xg9',\n",
       "         steps=[('scaler', StandardScaler()), ('model', Ridge())])"
      ]
     },
     "execution_count": 19,
     "metadata": {},
     "output_type": "execute_result"
    }
   ],
   "source": [
    "# Visualize the pipeline\n",
    "set_config(display=\"diagram\")\n",
    "pipe  # click on the diagram below to see the details of each step"
   ]
  },
  {
   "cell_type": "code",
   "execution_count": 20,
   "id": "68ba7bc3",
   "metadata": {},
   "outputs": [
    {
     "name": "stdout",
     "output_type": "stream",
     "text": [
      "Fitting 5 folds for each of 144 candidates, totalling 720 fits\n"
     ]
    }
   ],
   "source": [
    "# Define the parameters for the Ridge grid search\n",
    "param_grid = [\n",
    "\n",
    "        {'scaler': [None, StandardScaler(), MinMaxScaler(), None],\n",
    "         'model': [Ridge()],  \n",
    "         'model__solver': ['svd', 'cholesky', 'lsqr', 'sag'],\n",
    "         'model__alpha': [0.0001, 0.001, 0.01, 0.1, 1, 10, 100, 1000, 10000]\n",
    "        }\n",
    "]\n",
    "\n",
    "Ridge_grid = GridSearchCV(pipe, param_grid, scoring='neg_mean_absolute_error', n_jobs=-1, cv=5, verbose=5)\n",
    "\n",
    "Ridge_fittedgrid = Ridge_grid.fit(X_train, y_train)"
   ]
  },
  {
   "cell_type": "code",
   "execution_count": 21,
   "id": "3eb78e90",
   "metadata": {},
   "outputs": [
    {
     "data": {
      "text/html": [
       "<style>div.sk-top-container {color: black;background-color: white;}div.sk-toggleable {background-color: white;}label.sk-toggleable__label {cursor: pointer;display: block;width: 100%;margin-bottom: 0;padding: 0.2em 0.3em;box-sizing: border-box;text-align: center;}div.sk-toggleable__content {max-height: 0;max-width: 0;overflow: hidden;text-align: left;background-color: #f0f8ff;}div.sk-toggleable__content pre {margin: 0.2em;color: black;border-radius: 0.25em;background-color: #f0f8ff;}input.sk-toggleable__control:checked~div.sk-toggleable__content {max-height: 200px;max-width: 100%;overflow: auto;}div.sk-estimator input.sk-toggleable__control:checked~label.sk-toggleable__label {background-color: #d4ebff;}div.sk-label input.sk-toggleable__control:checked~label.sk-toggleable__label {background-color: #d4ebff;}input.sk-hidden--visually {border: 0;clip: rect(1px 1px 1px 1px);clip: rect(1px, 1px, 1px, 1px);height: 1px;margin: -1px;overflow: hidden;padding: 0;position: absolute;width: 1px;}div.sk-estimator {font-family: monospace;background-color: #f0f8ff;margin: 0.25em 0.25em;border: 1px dotted black;border-radius: 0.25em;box-sizing: border-box;}div.sk-estimator:hover {background-color: #d4ebff;}div.sk-parallel-item::after {content: \"\";width: 100%;border-bottom: 1px solid gray;flex-grow: 1;}div.sk-label:hover label.sk-toggleable__label {background-color: #d4ebff;}div.sk-serial::before {content: \"\";position: absolute;border-left: 1px solid gray;box-sizing: border-box;top: 2em;bottom: 0;left: 50%;}div.sk-serial {display: flex;flex-direction: column;align-items: center;background-color: white;}div.sk-item {z-index: 1;}div.sk-parallel {display: flex;align-items: stretch;justify-content: center;background-color: white;}div.sk-parallel-item {display: flex;flex-direction: column;position: relative;background-color: white;}div.sk-parallel-item:first-child::after {align-self: flex-end;width: 50%;}div.sk-parallel-item:last-child::after {align-self: flex-start;width: 50%;}div.sk-parallel-item:only-child::after {width: 0;}div.sk-dashed-wrapped {border: 1px dashed gray;margin: 0.2em;box-sizing: border-box;padding-bottom: 0.1em;background-color: white;position: relative;}div.sk-label label {font-family: monospace;font-weight: bold;background-color: white;display: inline-block;line-height: 1.2em;}div.sk-label-container {position: relative;z-index: 2;text-align: center;}div.sk-container {display: inline-block;position: relative;}</style><div class=\"sk-top-container\"><div class=\"sk-container\"><div class=\"sk-item sk-dashed-wrapped\"><div class=\"sk-label-container\"><div class=\"sk-label sk-toggleable\"><input class=\"sk-toggleable__control sk-hidden--visually\" id=\"6def6e8b-9ca3-494d-bcff-b049f0fe45d8\" type=\"checkbox\" ><label class=\"sk-toggleable__label\" for=\"6def6e8b-9ca3-494d-bcff-b049f0fe45d8\">Pipeline</label><div class=\"sk-toggleable__content\"><pre>Pipeline(memory='C:\\\\Users\\\\audre\\\\AppData\\\\Local\\\\Temp\\\\tmp2ag80xg9',\n",
       "         steps=[('scaler', StandardScaler()),\n",
       "                ('model', Ridge(alpha=1000, solver='svd'))])</pre></div></div></div><div class=\"sk-serial\"><div class=\"sk-item\"><div class=\"sk-estimator sk-toggleable\"><input class=\"sk-toggleable__control sk-hidden--visually\" id=\"b05237fa-2a77-45b0-9861-2700508f0adf\" type=\"checkbox\" ><label class=\"sk-toggleable__label\" for=\"b05237fa-2a77-45b0-9861-2700508f0adf\">StandardScaler</label><div class=\"sk-toggleable__content\"><pre>StandardScaler()</pre></div></div></div><div class=\"sk-item\"><div class=\"sk-estimator sk-toggleable\"><input class=\"sk-toggleable__control sk-hidden--visually\" id=\"97c31500-777a-4cde-b9d5-b41b498e23e3\" type=\"checkbox\" ><label class=\"sk-toggleable__label\" for=\"97c31500-777a-4cde-b9d5-b41b498e23e3\">Ridge</label><div class=\"sk-toggleable__content\"><pre>Ridge(alpha=1000, solver='svd')</pre></div></div></div></div></div></div></div>"
      ],
      "text/plain": [
       "Pipeline(memory='C:\\\\Users\\\\audre\\\\AppData\\\\Local\\\\Temp\\\\tmp2ag80xg9',\n",
       "         steps=[('scaler', StandardScaler()),\n",
       "                ('model', Ridge(alpha=1000, solver='svd'))])"
      ]
     },
     "execution_count": 21,
     "metadata": {},
     "output_type": "execute_result"
    }
   ],
   "source": [
    "# Best estimator object for Ridge model\n",
    "Ridge_fittedgrid.best_estimator_"
   ]
  },
  {
   "cell_type": "code",
   "execution_count": 22,
   "id": "2fa87244",
   "metadata": {},
   "outputs": [
    {
     "data": {
      "text/plain": [
       "{'model': Ridge(alpha=1000, solver='svd'),\n",
       " 'model__alpha': 1000,\n",
       " 'model__solver': 'svd',\n",
       " 'scaler': StandardScaler()}"
      ]
     },
     "execution_count": 22,
     "metadata": {},
     "output_type": "execute_result"
    }
   ],
   "source": [
    "# Best hyperparameters for Ridge model\n",
    "Ridge_fittedgrid.best_params_"
   ]
  },
  {
   "cell_type": "code",
   "execution_count": 23,
   "id": "2e8ab6b2",
   "metadata": {},
   "outputs": [
    {
     "data": {
      "text/plain": [
       "-4.610674503661291"
      ]
     },
     "execution_count": 23,
     "metadata": {},
     "output_type": "execute_result"
    }
   ],
   "source": [
    "# Best score\n",
    "Ridge_fittedgrid.best_score_"
   ]
  },
  {
   "cell_type": "code",
   "execution_count": 24,
   "id": "3396c218",
   "metadata": {},
   "outputs": [],
   "source": [
    "# Scale the data\n",
    "# Instantiate the scaler\n",
    "ss = StandardScaler()\n",
    "\n",
    "# Fit (ON THE TRAINING DATA)\n",
    "ss.fit(X_train)\n",
    "\n",
    "# Transform (both the train and validation data)\n",
    "X_train_ss = ss.transform(X_train)\n",
    "X_test_ss = ss.transform(X_test)"
   ]
  },
  {
   "cell_type": "code",
   "execution_count": 25,
   "id": "2ca390d8",
   "metadata": {},
   "outputs": [],
   "source": [
    "# Using the best model parameter\n",
    "tuned_Ridge = Ridge(alpha=1000, solver='svd')"
   ]
  },
  {
   "cell_type": "code",
   "execution_count": 26,
   "id": "3abbd888",
   "metadata": {},
   "outputs": [
    {
     "data": {
      "text/html": [
       "<style>div.sk-top-container {color: black;background-color: white;}div.sk-toggleable {background-color: white;}label.sk-toggleable__label {cursor: pointer;display: block;width: 100%;margin-bottom: 0;padding: 0.2em 0.3em;box-sizing: border-box;text-align: center;}div.sk-toggleable__content {max-height: 0;max-width: 0;overflow: hidden;text-align: left;background-color: #f0f8ff;}div.sk-toggleable__content pre {margin: 0.2em;color: black;border-radius: 0.25em;background-color: #f0f8ff;}input.sk-toggleable__control:checked~div.sk-toggleable__content {max-height: 200px;max-width: 100%;overflow: auto;}div.sk-estimator input.sk-toggleable__control:checked~label.sk-toggleable__label {background-color: #d4ebff;}div.sk-label input.sk-toggleable__control:checked~label.sk-toggleable__label {background-color: #d4ebff;}input.sk-hidden--visually {border: 0;clip: rect(1px 1px 1px 1px);clip: rect(1px, 1px, 1px, 1px);height: 1px;margin: -1px;overflow: hidden;padding: 0;position: absolute;width: 1px;}div.sk-estimator {font-family: monospace;background-color: #f0f8ff;margin: 0.25em 0.25em;border: 1px dotted black;border-radius: 0.25em;box-sizing: border-box;}div.sk-estimator:hover {background-color: #d4ebff;}div.sk-parallel-item::after {content: \"\";width: 100%;border-bottom: 1px solid gray;flex-grow: 1;}div.sk-label:hover label.sk-toggleable__label {background-color: #d4ebff;}div.sk-serial::before {content: \"\";position: absolute;border-left: 1px solid gray;box-sizing: border-box;top: 2em;bottom: 0;left: 50%;}div.sk-serial {display: flex;flex-direction: column;align-items: center;background-color: white;}div.sk-item {z-index: 1;}div.sk-parallel {display: flex;align-items: stretch;justify-content: center;background-color: white;}div.sk-parallel-item {display: flex;flex-direction: column;position: relative;background-color: white;}div.sk-parallel-item:first-child::after {align-self: flex-end;width: 50%;}div.sk-parallel-item:last-child::after {align-self: flex-start;width: 50%;}div.sk-parallel-item:only-child::after {width: 0;}div.sk-dashed-wrapped {border: 1px dashed gray;margin: 0.2em;box-sizing: border-box;padding-bottom: 0.1em;background-color: white;position: relative;}div.sk-label label {font-family: monospace;font-weight: bold;background-color: white;display: inline-block;line-height: 1.2em;}div.sk-label-container {position: relative;z-index: 2;text-align: center;}div.sk-container {display: inline-block;position: relative;}</style><div class=\"sk-top-container\"><div class=\"sk-container\"><div class=\"sk-item\"><div class=\"sk-estimator sk-toggleable\"><input class=\"sk-toggleable__control sk-hidden--visually\" id=\"bb521c06-743b-40ff-920d-71da038a0e38\" type=\"checkbox\" checked><label class=\"sk-toggleable__label\" for=\"bb521c06-743b-40ff-920d-71da038a0e38\">Ridge</label><div class=\"sk-toggleable__content\"><pre>Ridge(alpha=1000, solver='svd')</pre></div></div></div></div></div>"
      ],
      "text/plain": [
       "Ridge(alpha=1000, solver='svd')"
      ]
     },
     "execution_count": 26,
     "metadata": {},
     "output_type": "execute_result"
    }
   ],
   "source": [
    "# fitting the Ridge model\n",
    "\n",
    "\n",
    "tuned_Ridge.fit(X_train_ss,y_train)"
   ]
  },
  {
   "cell_type": "code",
   "execution_count": 27,
   "id": "bd304d57",
   "metadata": {},
   "outputs": [],
   "source": [
    "# Model Predictions for train and validation set\n",
    "Ridge_train_pred = tuned_Ridge.predict(X_train_ss)\n",
    "tuned_Ridge_pred = tuned_Ridge.predict(X_test_ss)"
   ]
  },
  {
   "cell_type": "code",
   "execution_count": 69,
   "id": "a2db0c94",
   "metadata": {},
   "outputs": [
    {
     "name": "stdout",
     "output_type": "stream",
     "text": [
      "MAE: 4.63056750154309\n",
      "MSE: 46.225258427512884\n",
      "RMSE: 6.798915974441285\n",
      "R2 for train set: 0.6419940090588205\n",
      "R2 for test set: 0.6124878982522508\n"
     ]
    }
   ],
   "source": [
    "# List the model scores\n",
    "from sklearn import metrics\n",
    "\n",
    "print('MAE:', metrics.mean_absolute_error(y_test,tuned_Ridge_pred))\n",
    "print('MSE:', metrics.mean_squared_error(y_test, tuned_Ridge_pred))\n",
    "print('RMSE:', np.sqrt(metrics.mean_squared_error(y_test, tuned_Ridge_pred)))\n",
    "print('R2 for train set:', r2_score(y_train, Ridge_train_pred))\n",
    "print('R2 for test set:', r2_score(y_test, tuned_Ridge_pred))"
   ]
  },
  {
   "cell_type": "markdown",
   "id": "8935cd8c",
   "metadata": {},
   "source": [
    "**OBSERVATIONS:**\n",
    "- The R2 score for the train set is slightly higher than the validation set, which is a good sign\n",
    "- We do need a model with a low RMSE, and the Ridge model has a lower RMSE(Root Mean Squared Error) than the Decision tree regression model which is a good sign\n",
    "- the Ridge model seems to do better than the Decision tree regression model\n",
    "- We will go ahead and save the model best estimator to a pickle file for future use\n",
    "- We will also go ahead and do other model fitting on the data set"
   ]
  },
  {
   "cell_type": "code",
   "execution_count": 29,
   "id": "6814f349",
   "metadata": {},
   "outputs": [
    {
     "data": {
      "text/plain": [
       "['pickled_best_Ridge.pkl']"
      ]
     },
     "execution_count": 29,
     "metadata": {},
     "output_type": "execute_result"
    }
   ],
   "source": [
    "# use joblib to pickle the best model for future use\n",
    "joblib.dump(Ridge_fittedgrid.best_estimator_, 'pickled_best_Ridge.pkl')"
   ]
  },
  {
   "cell_type": "markdown",
   "id": "bcdfb455",
   "metadata": {},
   "source": [
    "## FITTING AN eXTREME GRADIENT BOOSTING( XGBOOST) REGRESSOR MODEL\n",
    "**Methodology:**\n",
    "- Create a pipeline\n",
    "- List the hyperparameters for tuning\n",
    "- Insert hyperparameters into pipeline and do a Grid search for best model\n",
    "- Fit the best model and check the model scores"
   ]
  },
  {
   "cell_type": "code",
   "execution_count": 30,
   "id": "63ab75e1",
   "metadata": {},
   "outputs": [],
   "source": [
    "# Set up a directory to cache the pipeline results\n",
    "cachedir = mkdtemp()\n",
    "\n",
    "# Set up a pipeline\n",
    "\n",
    "# Create placeholders for XGB step\n",
    "estimators = [\n",
    "    ('scaler', StandardScaler()),\n",
    "    ('model', XGBRegressor())\n",
    "]\n",
    "\n",
    "pipe = Pipeline(estimators, memory=cachedir)"
   ]
  },
  {
   "cell_type": "code",
   "execution_count": 31,
   "id": "7b906c58",
   "metadata": {},
   "outputs": [
    {
     "data": {
      "text/html": [
       "<style>div.sk-top-container {color: black;background-color: white;}div.sk-toggleable {background-color: white;}label.sk-toggleable__label {cursor: pointer;display: block;width: 100%;margin-bottom: 0;padding: 0.2em 0.3em;box-sizing: border-box;text-align: center;}div.sk-toggleable__content {max-height: 0;max-width: 0;overflow: hidden;text-align: left;background-color: #f0f8ff;}div.sk-toggleable__content pre {margin: 0.2em;color: black;border-radius: 0.25em;background-color: #f0f8ff;}input.sk-toggleable__control:checked~div.sk-toggleable__content {max-height: 200px;max-width: 100%;overflow: auto;}div.sk-estimator input.sk-toggleable__control:checked~label.sk-toggleable__label {background-color: #d4ebff;}div.sk-label input.sk-toggleable__control:checked~label.sk-toggleable__label {background-color: #d4ebff;}input.sk-hidden--visually {border: 0;clip: rect(1px 1px 1px 1px);clip: rect(1px, 1px, 1px, 1px);height: 1px;margin: -1px;overflow: hidden;padding: 0;position: absolute;width: 1px;}div.sk-estimator {font-family: monospace;background-color: #f0f8ff;margin: 0.25em 0.25em;border: 1px dotted black;border-radius: 0.25em;box-sizing: border-box;}div.sk-estimator:hover {background-color: #d4ebff;}div.sk-parallel-item::after {content: \"\";width: 100%;border-bottom: 1px solid gray;flex-grow: 1;}div.sk-label:hover label.sk-toggleable__label {background-color: #d4ebff;}div.sk-serial::before {content: \"\";position: absolute;border-left: 1px solid gray;box-sizing: border-box;top: 2em;bottom: 0;left: 50%;}div.sk-serial {display: flex;flex-direction: column;align-items: center;background-color: white;}div.sk-item {z-index: 1;}div.sk-parallel {display: flex;align-items: stretch;justify-content: center;background-color: white;}div.sk-parallel-item {display: flex;flex-direction: column;position: relative;background-color: white;}div.sk-parallel-item:first-child::after {align-self: flex-end;width: 50%;}div.sk-parallel-item:last-child::after {align-self: flex-start;width: 50%;}div.sk-parallel-item:only-child::after {width: 0;}div.sk-dashed-wrapped {border: 1px dashed gray;margin: 0.2em;box-sizing: border-box;padding-bottom: 0.1em;background-color: white;position: relative;}div.sk-label label {font-family: monospace;font-weight: bold;background-color: white;display: inline-block;line-height: 1.2em;}div.sk-label-container {position: relative;z-index: 2;text-align: center;}div.sk-container {display: inline-block;position: relative;}</style><div class=\"sk-top-container\"><div class=\"sk-container\"><div class=\"sk-item sk-dashed-wrapped\"><div class=\"sk-label-container\"><div class=\"sk-label sk-toggleable\"><input class=\"sk-toggleable__control sk-hidden--visually\" id=\"8f1b1c3c-d22e-4930-af43-c572bfd679aa\" type=\"checkbox\" ><label class=\"sk-toggleable__label\" for=\"8f1b1c3c-d22e-4930-af43-c572bfd679aa\">Pipeline</label><div class=\"sk-toggleable__content\"><pre>Pipeline(memory='C:\\\\Users\\\\audre\\\\AppData\\\\Local\\\\Temp\\\\tmpj34ze8uw',\n",
       "         steps=[('scaler', StandardScaler()),\n",
       "                ('model',\n",
       "                 XGBRegressor(base_score=None, booster=None,\n",
       "                              colsample_bylevel=None, colsample_bynode=None,\n",
       "                              colsample_bytree=None, gamma=None, gpu_id=None,\n",
       "                              importance_type='gain',\n",
       "                              interaction_constraints=None, learning_rate=None,\n",
       "                              max_delta_step=None, max_depth=None,\n",
       "                              min_child_weight=None, missing=nan,\n",
       "                              monotone_constraints=None, n_estimators=100,\n",
       "                              n_jobs=None, num_parallel_tree=None,\n",
       "                              random_state=None, reg_alpha=None,\n",
       "                              reg_lambda=None, scale_pos_weight=None,\n",
       "                              subsample=None, tree_method=None,\n",
       "                              validate_parameters=None, verbosity=None))])</pre></div></div></div><div class=\"sk-serial\"><div class=\"sk-item\"><div class=\"sk-estimator sk-toggleable\"><input class=\"sk-toggleable__control sk-hidden--visually\" id=\"17681beb-3b81-477b-b139-a4eb4d5ca519\" type=\"checkbox\" ><label class=\"sk-toggleable__label\" for=\"17681beb-3b81-477b-b139-a4eb4d5ca519\">StandardScaler</label><div class=\"sk-toggleable__content\"><pre>StandardScaler()</pre></div></div></div><div class=\"sk-item\"><div class=\"sk-estimator sk-toggleable\"><input class=\"sk-toggleable__control sk-hidden--visually\" id=\"0291cc4f-1d93-4ce5-8d16-4419121441b2\" type=\"checkbox\" ><label class=\"sk-toggleable__label\" for=\"0291cc4f-1d93-4ce5-8d16-4419121441b2\">XGBRegressor</label><div class=\"sk-toggleable__content\"><pre>XGBRegressor(base_score=None, booster=None, colsample_bylevel=None,\n",
       "             colsample_bynode=None, colsample_bytree=None, gamma=None,\n",
       "             gpu_id=None, importance_type='gain', interaction_constraints=None,\n",
       "             learning_rate=None, max_delta_step=None, max_depth=None,\n",
       "             min_child_weight=None, missing=nan, monotone_constraints=None,\n",
       "             n_estimators=100, n_jobs=None, num_parallel_tree=None,\n",
       "             random_state=None, reg_alpha=None, reg_lambda=None,\n",
       "             scale_pos_weight=None, subsample=None, tree_method=None,\n",
       "             validate_parameters=None, verbosity=None)</pre></div></div></div></div></div></div></div>"
      ],
      "text/plain": [
       "Pipeline(memory='C:\\\\Users\\\\audre\\\\AppData\\\\Local\\\\Temp\\\\tmpj34ze8uw',\n",
       "         steps=[('scaler', StandardScaler()),\n",
       "                ('model',\n",
       "                 XGBRegressor(base_score=None, booster=None,\n",
       "                              colsample_bylevel=None, colsample_bynode=None,\n",
       "                              colsample_bytree=None, gamma=None, gpu_id=None,\n",
       "                              importance_type='gain',\n",
       "                              interaction_constraints=None, learning_rate=None,\n",
       "                              max_delta_step=None, max_depth=None,\n",
       "                              min_child_weight=None, missing=nan,\n",
       "                              monotone_constraints=None, n_estimators=100,\n",
       "                              n_jobs=None, num_parallel_tree=None,\n",
       "                              random_state=None, reg_alpha=None,\n",
       "                              reg_lambda=None, scale_pos_weight=None,\n",
       "                              subsample=None, tree_method=None,\n",
       "                              validate_parameters=None, verbosity=None))])"
      ]
     },
     "execution_count": 31,
     "metadata": {},
     "output_type": "execute_result"
    }
   ],
   "source": [
    "# Visualize the pipeline\n",
    "set_config(display=\"diagram\")\n",
    "pipe  # click on the diagram below to see the details of each step"
   ]
  },
  {
   "cell_type": "code",
   "execution_count": 32,
   "id": "0dd7216b",
   "metadata": {},
   "outputs": [
    {
     "name": "stdout",
     "output_type": "stream",
     "text": [
      "Fitting 5 folds for each of 162 candidates, totalling 810 fits\n"
     ]
    }
   ],
   "source": [
    "# Define the parameters for the XGB grid search\n",
    "param_grid = [\n",
    "    { \n",
    "        'scaler': [StandardScaler(), MinMaxScaler(), None],\n",
    "        'model': [XGBRegressor()], \n",
    "        'model__max_depth': [5,7,10],\n",
    "        'model__learning_rate': [0.01, 0.05, 0.1],  \n",
    "        'model__n_estimators': [100, 500, 1000],\n",
    "        'model__colsample_bytree': [0.3, 0.7]\n",
    "    }\n",
    "]\n",
    "\n",
    "XGB_grid = GridSearchCV(pipe, param_grid, scoring='neg_mean_absolute_error', n_jobs=-1, cv=5, verbose=5)\n",
    "\n",
    "XGB_fittedgrid = XGB_grid.fit(X_train, y_train)"
   ]
  },
  {
   "cell_type": "code",
   "execution_count": 33,
   "id": "9e0a5597",
   "metadata": {},
   "outputs": [
    {
     "data": {
      "text/html": [
       "<style>div.sk-top-container {color: black;background-color: white;}div.sk-toggleable {background-color: white;}label.sk-toggleable__label {cursor: pointer;display: block;width: 100%;margin-bottom: 0;padding: 0.2em 0.3em;box-sizing: border-box;text-align: center;}div.sk-toggleable__content {max-height: 0;max-width: 0;overflow: hidden;text-align: left;background-color: #f0f8ff;}div.sk-toggleable__content pre {margin: 0.2em;color: black;border-radius: 0.25em;background-color: #f0f8ff;}input.sk-toggleable__control:checked~div.sk-toggleable__content {max-height: 200px;max-width: 100%;overflow: auto;}div.sk-estimator input.sk-toggleable__control:checked~label.sk-toggleable__label {background-color: #d4ebff;}div.sk-label input.sk-toggleable__control:checked~label.sk-toggleable__label {background-color: #d4ebff;}input.sk-hidden--visually {border: 0;clip: rect(1px 1px 1px 1px);clip: rect(1px, 1px, 1px, 1px);height: 1px;margin: -1px;overflow: hidden;padding: 0;position: absolute;width: 1px;}div.sk-estimator {font-family: monospace;background-color: #f0f8ff;margin: 0.25em 0.25em;border: 1px dotted black;border-radius: 0.25em;box-sizing: border-box;}div.sk-estimator:hover {background-color: #d4ebff;}div.sk-parallel-item::after {content: \"\";width: 100%;border-bottom: 1px solid gray;flex-grow: 1;}div.sk-label:hover label.sk-toggleable__label {background-color: #d4ebff;}div.sk-serial::before {content: \"\";position: absolute;border-left: 1px solid gray;box-sizing: border-box;top: 2em;bottom: 0;left: 50%;}div.sk-serial {display: flex;flex-direction: column;align-items: center;background-color: white;}div.sk-item {z-index: 1;}div.sk-parallel {display: flex;align-items: stretch;justify-content: center;background-color: white;}div.sk-parallel-item {display: flex;flex-direction: column;position: relative;background-color: white;}div.sk-parallel-item:first-child::after {align-self: flex-end;width: 50%;}div.sk-parallel-item:last-child::after {align-self: flex-start;width: 50%;}div.sk-parallel-item:only-child::after {width: 0;}div.sk-dashed-wrapped {border: 1px dashed gray;margin: 0.2em;box-sizing: border-box;padding-bottom: 0.1em;background-color: white;position: relative;}div.sk-label label {font-family: monospace;font-weight: bold;background-color: white;display: inline-block;line-height: 1.2em;}div.sk-label-container {position: relative;z-index: 2;text-align: center;}div.sk-container {display: inline-block;position: relative;}</style><div class=\"sk-top-container\"><div class=\"sk-container\"><div class=\"sk-item sk-dashed-wrapped\"><div class=\"sk-label-container\"><div class=\"sk-label sk-toggleable\"><input class=\"sk-toggleable__control sk-hidden--visually\" id=\"03151f46-7090-45c4-a2e4-c6db972f07c6\" type=\"checkbox\" ><label class=\"sk-toggleable__label\" for=\"03151f46-7090-45c4-a2e4-c6db972f07c6\">Pipeline</label><div class=\"sk-toggleable__content\"><pre>Pipeline(memory='C:\\\\Users\\\\audre\\\\AppData\\\\Local\\\\Temp\\\\tmpj34ze8uw',\n",
       "         steps=[('scaler', MinMaxScaler()),\n",
       "                ('model',\n",
       "                 XGBRegressor(base_score=0.5, booster='gbtree',\n",
       "                              colsample_bylevel=1, colsample_bynode=1,\n",
       "                              colsample_bytree=0.7, gamma=0, gpu_id=-1,\n",
       "                              importance_type='gain',\n",
       "                              interaction_constraints='', learning_rate=0.05,\n",
       "                              max_delta_step=0, max_depth=10,\n",
       "                              min_child_weight=1, missing=nan,\n",
       "                              monotone_constraints='()', n_estimators=1000,\n",
       "                              n_jobs=0, num_parallel_tree=1, random_state=0,\n",
       "                              reg_alpha=0, reg_lambda=1, scale_pos_weight=1,\n",
       "                              subsample=1, tree_method='exact',\n",
       "                              validate_parameters=1, verbosity=None))])</pre></div></div></div><div class=\"sk-serial\"><div class=\"sk-item\"><div class=\"sk-estimator sk-toggleable\"><input class=\"sk-toggleable__control sk-hidden--visually\" id=\"3bb0f5f6-6ff0-439f-b3d3-ce9f4bea3a01\" type=\"checkbox\" ><label class=\"sk-toggleable__label\" for=\"3bb0f5f6-6ff0-439f-b3d3-ce9f4bea3a01\">MinMaxScaler</label><div class=\"sk-toggleable__content\"><pre>MinMaxScaler()</pre></div></div></div><div class=\"sk-item\"><div class=\"sk-estimator sk-toggleable\"><input class=\"sk-toggleable__control sk-hidden--visually\" id=\"e235c88b-a8f0-4728-aa38-c1b68392ff73\" type=\"checkbox\" ><label class=\"sk-toggleable__label\" for=\"e235c88b-a8f0-4728-aa38-c1b68392ff73\">XGBRegressor</label><div class=\"sk-toggleable__content\"><pre>XGBRegressor(base_score=0.5, booster='gbtree', colsample_bylevel=1,\n",
       "             colsample_bynode=1, colsample_bytree=0.7, gamma=0, gpu_id=-1,\n",
       "             importance_type='gain', interaction_constraints='',\n",
       "             learning_rate=0.05, max_delta_step=0, max_depth=10,\n",
       "             min_child_weight=1, missing=nan, monotone_constraints='()',\n",
       "             n_estimators=1000, n_jobs=0, num_parallel_tree=1, random_state=0,\n",
       "             reg_alpha=0, reg_lambda=1, scale_pos_weight=1, subsample=1,\n",
       "             tree_method='exact', validate_parameters=1, verbosity=None)</pre></div></div></div></div></div></div></div>"
      ],
      "text/plain": [
       "Pipeline(memory='C:\\\\Users\\\\audre\\\\AppData\\\\Local\\\\Temp\\\\tmpj34ze8uw',\n",
       "         steps=[('scaler', MinMaxScaler()),\n",
       "                ('model',\n",
       "                 XGBRegressor(base_score=0.5, booster='gbtree',\n",
       "                              colsample_bylevel=1, colsample_bynode=1,\n",
       "                              colsample_bytree=0.7, gamma=0, gpu_id=-1,\n",
       "                              importance_type='gain',\n",
       "                              interaction_constraints='', learning_rate=0.05,\n",
       "                              max_delta_step=0, max_depth=10,\n",
       "                              min_child_weight=1, missing=nan,\n",
       "                              monotone_constraints='()', n_estimators=1000,\n",
       "                              n_jobs=0, num_parallel_tree=1, random_state=0,\n",
       "                              reg_alpha=0, reg_lambda=1, scale_pos_weight=1,\n",
       "                              subsample=1, tree_method='exact',\n",
       "                              validate_parameters=1, verbosity=None))])"
      ]
     },
     "execution_count": 33,
     "metadata": {},
     "output_type": "execute_result"
    }
   ],
   "source": [
    "# Best estimator object for XGB model\n",
    "XGB_fittedgrid.best_estimator_"
   ]
  },
  {
   "cell_type": "code",
   "execution_count": 34,
   "id": "d55b062d",
   "metadata": {},
   "outputs": [
    {
     "data": {
      "text/plain": [
       "{'model': XGBRegressor(base_score=None, booster=None, colsample_bylevel=None,\n",
       "              colsample_bynode=None, colsample_bytree=0.7, gamma=None,\n",
       "              gpu_id=None, importance_type='gain', interaction_constraints=None,\n",
       "              learning_rate=0.05, max_delta_step=None, max_depth=10,\n",
       "              min_child_weight=None, missing=nan, monotone_constraints=None,\n",
       "              n_estimators=1000, n_jobs=None, num_parallel_tree=None,\n",
       "              random_state=None, reg_alpha=None, reg_lambda=None,\n",
       "              scale_pos_weight=None, subsample=None, tree_method=None,\n",
       "              validate_parameters=None, verbosity=None),\n",
       " 'model__colsample_bytree': 0.7,\n",
       " 'model__learning_rate': 0.05,\n",
       " 'model__max_depth': 10,\n",
       " 'model__n_estimators': 1000,\n",
       " 'scaler': MinMaxScaler()}"
      ]
     },
     "execution_count": 34,
     "metadata": {},
     "output_type": "execute_result"
    }
   ],
   "source": [
    "# Best hyperparameters for XGB model\n",
    "XGB_fittedgrid.best_params_"
   ]
  },
  {
   "cell_type": "code",
   "execution_count": 35,
   "id": "cf74e36b",
   "metadata": {},
   "outputs": [
    {
     "data": {
      "text/plain": [
       "-2.489497459392001"
      ]
     },
     "execution_count": 35,
     "metadata": {},
     "output_type": "execute_result"
    }
   ],
   "source": [
    "# Best score\n",
    "XGB_fittedgrid.best_score_"
   ]
  },
  {
   "cell_type": "code",
   "execution_count": 59,
   "id": "146458e8",
   "metadata": {},
   "outputs": [],
   "source": [
    "# Scale the data\n",
    "# Instantiate the scaler\n",
    "mm = MinMaxScaler()\n",
    "\n",
    "# Fit (ON THE TRAINING DATA)\n",
    "mm.fit(X_train)\n",
    "\n",
    "# Transform (both the train and validation data)\n",
    "X_train_mm = mm.transform(X_train)\n",
    "X_test_mm = mm.transform(X_test)"
   ]
  },
  {
   "cell_type": "code",
   "execution_count": 60,
   "id": "bf4be2f6",
   "metadata": {},
   "outputs": [],
   "source": [
    "# Using the best model parameter\n",
    "tuned_XGB =  XGBRegressor(colsample_bytree=0.7, learning_rate=0.05, max_depth=10, n_estimators=1000)"
   ]
  },
  {
   "cell_type": "code",
   "execution_count": 61,
   "id": "aeea2136",
   "metadata": {},
   "outputs": [
    {
     "data": {
      "text/html": [
       "<style>div.sk-top-container {color: black;background-color: white;}div.sk-toggleable {background-color: white;}label.sk-toggleable__label {cursor: pointer;display: block;width: 100%;margin-bottom: 0;padding: 0.2em 0.3em;box-sizing: border-box;text-align: center;}div.sk-toggleable__content {max-height: 0;max-width: 0;overflow: hidden;text-align: left;background-color: #f0f8ff;}div.sk-toggleable__content pre {margin: 0.2em;color: black;border-radius: 0.25em;background-color: #f0f8ff;}input.sk-toggleable__control:checked~div.sk-toggleable__content {max-height: 200px;max-width: 100%;overflow: auto;}div.sk-estimator input.sk-toggleable__control:checked~label.sk-toggleable__label {background-color: #d4ebff;}div.sk-label input.sk-toggleable__control:checked~label.sk-toggleable__label {background-color: #d4ebff;}input.sk-hidden--visually {border: 0;clip: rect(1px 1px 1px 1px);clip: rect(1px, 1px, 1px, 1px);height: 1px;margin: -1px;overflow: hidden;padding: 0;position: absolute;width: 1px;}div.sk-estimator {font-family: monospace;background-color: #f0f8ff;margin: 0.25em 0.25em;border: 1px dotted black;border-radius: 0.25em;box-sizing: border-box;}div.sk-estimator:hover {background-color: #d4ebff;}div.sk-parallel-item::after {content: \"\";width: 100%;border-bottom: 1px solid gray;flex-grow: 1;}div.sk-label:hover label.sk-toggleable__label {background-color: #d4ebff;}div.sk-serial::before {content: \"\";position: absolute;border-left: 1px solid gray;box-sizing: border-box;top: 2em;bottom: 0;left: 50%;}div.sk-serial {display: flex;flex-direction: column;align-items: center;background-color: white;}div.sk-item {z-index: 1;}div.sk-parallel {display: flex;align-items: stretch;justify-content: center;background-color: white;}div.sk-parallel-item {display: flex;flex-direction: column;position: relative;background-color: white;}div.sk-parallel-item:first-child::after {align-self: flex-end;width: 50%;}div.sk-parallel-item:last-child::after {align-self: flex-start;width: 50%;}div.sk-parallel-item:only-child::after {width: 0;}div.sk-dashed-wrapped {border: 1px dashed gray;margin: 0.2em;box-sizing: border-box;padding-bottom: 0.1em;background-color: white;position: relative;}div.sk-label label {font-family: monospace;font-weight: bold;background-color: white;display: inline-block;line-height: 1.2em;}div.sk-label-container {position: relative;z-index: 2;text-align: center;}div.sk-container {display: inline-block;position: relative;}</style><div class=\"sk-top-container\"><div class=\"sk-container\"><div class=\"sk-item\"><div class=\"sk-estimator sk-toggleable\"><input class=\"sk-toggleable__control sk-hidden--visually\" id=\"31ff7e20-eb96-4137-8453-980853e3e958\" type=\"checkbox\" checked><label class=\"sk-toggleable__label\" for=\"31ff7e20-eb96-4137-8453-980853e3e958\">XGBRegressor</label><div class=\"sk-toggleable__content\"><pre>XGBRegressor(base_score=0.5, booster='gbtree', colsample_bylevel=1,\n",
       "             colsample_bynode=1, colsample_bytree=0.7, gamma=0, gpu_id=-1,\n",
       "             importance_type='gain', interaction_constraints='',\n",
       "             learning_rate=0.05, max_delta_step=0, max_depth=10,\n",
       "             min_child_weight=1, missing=nan, monotone_constraints='()',\n",
       "             n_estimators=1000, n_jobs=0, num_parallel_tree=1, random_state=0,\n",
       "             reg_alpha=0, reg_lambda=1, scale_pos_weight=1, subsample=1,\n",
       "             tree_method='exact', validate_parameters=1, verbosity=None)</pre></div></div></div></div></div>"
      ],
      "text/plain": [
       "XGBRegressor(base_score=0.5, booster='gbtree', colsample_bylevel=1,\n",
       "             colsample_bynode=1, colsample_bytree=0.7, gamma=0, gpu_id=-1,\n",
       "             importance_type='gain', interaction_constraints='',\n",
       "             learning_rate=0.05, max_delta_step=0, max_depth=10,\n",
       "             min_child_weight=1, missing=nan, monotone_constraints='()',\n",
       "             n_estimators=1000, n_jobs=0, num_parallel_tree=1, random_state=0,\n",
       "             reg_alpha=0, reg_lambda=1, scale_pos_weight=1, subsample=1,\n",
       "             tree_method='exact', validate_parameters=1, verbosity=None)"
      ]
     },
     "execution_count": 61,
     "metadata": {},
     "output_type": "execute_result"
    }
   ],
   "source": [
    "# fitting the XGBoost model\n",
    "\n",
    "\n",
    "tuned_XGB.fit(X_train_mm,y_train)"
   ]
  },
  {
   "cell_type": "code",
   "execution_count": 62,
   "id": "e0557001",
   "metadata": {},
   "outputs": [],
   "source": [
    "# Model Predictions for train and validation set\n",
    "XGB_train_pred = tuned_XGB.predict(X_train_mm)\n",
    "tuned_XGB_pred = tuned_XGB.predict(X_test_mm)"
   ]
  },
  {
   "cell_type": "code",
   "execution_count": 70,
   "id": "3eb79917",
   "metadata": {},
   "outputs": [
    {
     "name": "stdout",
     "output_type": "stream",
     "text": [
      "MAE: 2.3357390455032423\n",
      "MSE: 14.512759739658282\n",
      "RMSE: 3.809561620404411\n",
      "R2 for train set: 0.9995554550218604\n",
      "R2 for test set: 0.8783377265982397\n"
     ]
    }
   ],
   "source": [
    "# List the model scores\n",
    "from sklearn import metrics\n",
    "\n",
    "print('MAE:', metrics.mean_absolute_error(y_test,tuned_XGB_pred))\n",
    "print('MSE:', metrics.mean_squared_error(y_test, tuned_XGB_pred))\n",
    "print('RMSE:', np.sqrt(metrics.mean_squared_error(y_test, tuned_XGB_pred)))\n",
    "print('R2 for train set:', r2_score(y_train, XGB_train_pred))\n",
    "print('R2 for test set:', r2_score(y_test, tuned_XGB_pred))"
   ]
  },
  {
   "cell_type": "markdown",
   "id": "a8779302",
   "metadata": {},
   "source": [
    "**OBSERVATIONS:**\n",
    "- The R2 score for the validation set is much better than the other models\n",
    "- We do need a model with a low RMSE, and the XGBRegressor model has the lowest RMSE(Root Mean Squared Error) of 3.81 of the three models\n",
    "- This model seems to do a lot better\n",
    "- We will go ahead and save the model best estimator to a pickle file for future use"
   ]
  },
  {
   "cell_type": "code",
   "execution_count": 64,
   "id": "517a7871",
   "metadata": {},
   "outputs": [
    {
     "data": {
      "text/plain": [
       "['pickled_best_XGB.pkl']"
      ]
     },
     "execution_count": 64,
     "metadata": {},
     "output_type": "execute_result"
    }
   ],
   "source": [
    "# use joblib to pickle the best model for future use\n",
    "joblib.dump(XGB_fittedgrid.best_estimator_, 'pickled_best_XGB.pkl')"
   ]
  },
  {
   "cell_type": "markdown",
   "id": "fc4359ae",
   "metadata": {},
   "source": [
    "## FITTING A RANDOM FOREST REGRESSOR MODEL\n",
    "**Methodology:**\n",
    "- Create a pipeline\n",
    "- List the hyperparameters for tuning\n",
    "- Insert hyperparameters into pipeline and do a Grid search for best model\n",
    "- Fit the best model and check the model scores"
   ]
  },
  {
   "cell_type": "code",
   "execution_count": 41,
   "id": "4e7cf41e",
   "metadata": {},
   "outputs": [],
   "source": [
    "# Set up a directory to cache the pipeline results\n",
    "cachedir = mkdtemp()\n",
    "\n",
    "# Set up a pipeline\n",
    "\n",
    "# Create placeholders for Random Forest step\n",
    "estimators = [\n",
    "    ('scaler', StandardScaler()),\n",
    "    ('model', RandomForestRegressor())\n",
    "]\n",
    "\n",
    "pipe = Pipeline(estimators, memory=cachedir)"
   ]
  },
  {
   "cell_type": "code",
   "execution_count": 42,
   "id": "66068f15",
   "metadata": {},
   "outputs": [
    {
     "data": {
      "text/html": [
       "<style>div.sk-top-container {color: black;background-color: white;}div.sk-toggleable {background-color: white;}label.sk-toggleable__label {cursor: pointer;display: block;width: 100%;margin-bottom: 0;padding: 0.2em 0.3em;box-sizing: border-box;text-align: center;}div.sk-toggleable__content {max-height: 0;max-width: 0;overflow: hidden;text-align: left;background-color: #f0f8ff;}div.sk-toggleable__content pre {margin: 0.2em;color: black;border-radius: 0.25em;background-color: #f0f8ff;}input.sk-toggleable__control:checked~div.sk-toggleable__content {max-height: 200px;max-width: 100%;overflow: auto;}div.sk-estimator input.sk-toggleable__control:checked~label.sk-toggleable__label {background-color: #d4ebff;}div.sk-label input.sk-toggleable__control:checked~label.sk-toggleable__label {background-color: #d4ebff;}input.sk-hidden--visually {border: 0;clip: rect(1px 1px 1px 1px);clip: rect(1px, 1px, 1px, 1px);height: 1px;margin: -1px;overflow: hidden;padding: 0;position: absolute;width: 1px;}div.sk-estimator {font-family: monospace;background-color: #f0f8ff;margin: 0.25em 0.25em;border: 1px dotted black;border-radius: 0.25em;box-sizing: border-box;}div.sk-estimator:hover {background-color: #d4ebff;}div.sk-parallel-item::after {content: \"\";width: 100%;border-bottom: 1px solid gray;flex-grow: 1;}div.sk-label:hover label.sk-toggleable__label {background-color: #d4ebff;}div.sk-serial::before {content: \"\";position: absolute;border-left: 1px solid gray;box-sizing: border-box;top: 2em;bottom: 0;left: 50%;}div.sk-serial {display: flex;flex-direction: column;align-items: center;background-color: white;}div.sk-item {z-index: 1;}div.sk-parallel {display: flex;align-items: stretch;justify-content: center;background-color: white;}div.sk-parallel-item {display: flex;flex-direction: column;position: relative;background-color: white;}div.sk-parallel-item:first-child::after {align-self: flex-end;width: 50%;}div.sk-parallel-item:last-child::after {align-self: flex-start;width: 50%;}div.sk-parallel-item:only-child::after {width: 0;}div.sk-dashed-wrapped {border: 1px dashed gray;margin: 0.2em;box-sizing: border-box;padding-bottom: 0.1em;background-color: white;position: relative;}div.sk-label label {font-family: monospace;font-weight: bold;background-color: white;display: inline-block;line-height: 1.2em;}div.sk-label-container {position: relative;z-index: 2;text-align: center;}div.sk-container {display: inline-block;position: relative;}</style><div class=\"sk-top-container\"><div class=\"sk-container\"><div class=\"sk-item sk-dashed-wrapped\"><div class=\"sk-label-container\"><div class=\"sk-label sk-toggleable\"><input class=\"sk-toggleable__control sk-hidden--visually\" id=\"4608d495-5432-414c-9769-750d92dbf50a\" type=\"checkbox\" ><label class=\"sk-toggleable__label\" for=\"4608d495-5432-414c-9769-750d92dbf50a\">Pipeline</label><div class=\"sk-toggleable__content\"><pre>Pipeline(memory='C:\\\\Users\\\\audre\\\\AppData\\\\Local\\\\Temp\\\\tmpifk72011',\n",
       "         steps=[('scaler', StandardScaler()),\n",
       "                ('model', RandomForestRegressor())])</pre></div></div></div><div class=\"sk-serial\"><div class=\"sk-item\"><div class=\"sk-estimator sk-toggleable\"><input class=\"sk-toggleable__control sk-hidden--visually\" id=\"bb5103f8-e39c-498c-944a-c31bfb2c8d96\" type=\"checkbox\" ><label class=\"sk-toggleable__label\" for=\"bb5103f8-e39c-498c-944a-c31bfb2c8d96\">StandardScaler</label><div class=\"sk-toggleable__content\"><pre>StandardScaler()</pre></div></div></div><div class=\"sk-item\"><div class=\"sk-estimator sk-toggleable\"><input class=\"sk-toggleable__control sk-hidden--visually\" id=\"56ac14f6-574e-499e-b0a7-e1a92ed70eef\" type=\"checkbox\" ><label class=\"sk-toggleable__label\" for=\"56ac14f6-574e-499e-b0a7-e1a92ed70eef\">RandomForestRegressor</label><div class=\"sk-toggleable__content\"><pre>RandomForestRegressor()</pre></div></div></div></div></div></div></div>"
      ],
      "text/plain": [
       "Pipeline(memory='C:\\\\Users\\\\audre\\\\AppData\\\\Local\\\\Temp\\\\tmpifk72011',\n",
       "         steps=[('scaler', StandardScaler()),\n",
       "                ('model', RandomForestRegressor())])"
      ]
     },
     "execution_count": 42,
     "metadata": {},
     "output_type": "execute_result"
    }
   ],
   "source": [
    "# Visualize the pipeline\n",
    "set_config(display=\"diagram\")\n",
    "pipe  # click on the diagram below to see the details of each step"
   ]
  },
  {
   "cell_type": "code",
   "execution_count": 43,
   "id": "32729b55",
   "metadata": {},
   "outputs": [
    {
     "name": "stdout",
     "output_type": "stream",
     "text": [
      "Fitting 5 folds for each of 1728 candidates, totalling 8640 fits\n"
     ]
    }
   ],
   "source": [
    "# Define the parameters for the Random Forest grid search\n",
    "param_grid = [\n",
    "    { \n",
    "        'scaler': [StandardScaler(), None],\n",
    "        'model': [RandomForestRegressor(random_state=0)], \n",
    "        'model__max_depth': [3,6,7,10],\n",
    "        'model__max_features': [\"auto\", \"log2\", \"sqrt\"],\n",
    "        'model__min_samples_leaf': [1, 2, 4],\n",
    "        'model__min_samples_split': [2, 5, 10],\n",
    "        'model__bootstrap': [True, False], \n",
    "        'model__n_estimators': [10, 50, 100, 200]\n",
    "    }\n",
    "]\n",
    "\n",
    "RF_grid = GridSearchCV(pipe, param_grid, scoring='neg_mean_absolute_error', n_jobs=-1, cv=5, verbose=5)\n",
    "\n",
    "RF_fittedgrid = RF_grid.fit(X_train, y_train)"
   ]
  },
  {
   "cell_type": "code",
   "execution_count": 44,
   "id": "80a6e056",
   "metadata": {},
   "outputs": [
    {
     "data": {
      "text/html": [
       "<style>div.sk-top-container {color: black;background-color: white;}div.sk-toggleable {background-color: white;}label.sk-toggleable__label {cursor: pointer;display: block;width: 100%;margin-bottom: 0;padding: 0.2em 0.3em;box-sizing: border-box;text-align: center;}div.sk-toggleable__content {max-height: 0;max-width: 0;overflow: hidden;text-align: left;background-color: #f0f8ff;}div.sk-toggleable__content pre {margin: 0.2em;color: black;border-radius: 0.25em;background-color: #f0f8ff;}input.sk-toggleable__control:checked~div.sk-toggleable__content {max-height: 200px;max-width: 100%;overflow: auto;}div.sk-estimator input.sk-toggleable__control:checked~label.sk-toggleable__label {background-color: #d4ebff;}div.sk-label input.sk-toggleable__control:checked~label.sk-toggleable__label {background-color: #d4ebff;}input.sk-hidden--visually {border: 0;clip: rect(1px 1px 1px 1px);clip: rect(1px, 1px, 1px, 1px);height: 1px;margin: -1px;overflow: hidden;padding: 0;position: absolute;width: 1px;}div.sk-estimator {font-family: monospace;background-color: #f0f8ff;margin: 0.25em 0.25em;border: 1px dotted black;border-radius: 0.25em;box-sizing: border-box;}div.sk-estimator:hover {background-color: #d4ebff;}div.sk-parallel-item::after {content: \"\";width: 100%;border-bottom: 1px solid gray;flex-grow: 1;}div.sk-label:hover label.sk-toggleable__label {background-color: #d4ebff;}div.sk-serial::before {content: \"\";position: absolute;border-left: 1px solid gray;box-sizing: border-box;top: 2em;bottom: 0;left: 50%;}div.sk-serial {display: flex;flex-direction: column;align-items: center;background-color: white;}div.sk-item {z-index: 1;}div.sk-parallel {display: flex;align-items: stretch;justify-content: center;background-color: white;}div.sk-parallel-item {display: flex;flex-direction: column;position: relative;background-color: white;}div.sk-parallel-item:first-child::after {align-self: flex-end;width: 50%;}div.sk-parallel-item:last-child::after {align-self: flex-start;width: 50%;}div.sk-parallel-item:only-child::after {width: 0;}div.sk-dashed-wrapped {border: 1px dashed gray;margin: 0.2em;box-sizing: border-box;padding-bottom: 0.1em;background-color: white;position: relative;}div.sk-label label {font-family: monospace;font-weight: bold;background-color: white;display: inline-block;line-height: 1.2em;}div.sk-label-container {position: relative;z-index: 2;text-align: center;}div.sk-container {display: inline-block;position: relative;}</style><div class=\"sk-top-container\"><div class=\"sk-container\"><div class=\"sk-item sk-dashed-wrapped\"><div class=\"sk-label-container\"><div class=\"sk-label sk-toggleable\"><input class=\"sk-toggleable__control sk-hidden--visually\" id=\"363b8a02-4a8b-4aad-afd0-efacd34a9f5a\" type=\"checkbox\" ><label class=\"sk-toggleable__label\" for=\"363b8a02-4a8b-4aad-afd0-efacd34a9f5a\">Pipeline</label><div class=\"sk-toggleable__content\"><pre>Pipeline(memory='C:\\\\Users\\\\audre\\\\AppData\\\\Local\\\\Temp\\\\tmpifk72011',\n",
       "         steps=[('scaler', StandardScaler()),\n",
       "                ('model',\n",
       "                 RandomForestRegressor(max_depth=10, min_samples_leaf=2,\n",
       "                                       n_estimators=200, random_state=0))])</pre></div></div></div><div class=\"sk-serial\"><div class=\"sk-item\"><div class=\"sk-estimator sk-toggleable\"><input class=\"sk-toggleable__control sk-hidden--visually\" id=\"c1463594-ab3f-42ce-b92a-188f707105ce\" type=\"checkbox\" ><label class=\"sk-toggleable__label\" for=\"c1463594-ab3f-42ce-b92a-188f707105ce\">StandardScaler</label><div class=\"sk-toggleable__content\"><pre>StandardScaler()</pre></div></div></div><div class=\"sk-item\"><div class=\"sk-estimator sk-toggleable\"><input class=\"sk-toggleable__control sk-hidden--visually\" id=\"54779330-a4de-4153-a4cd-e163ae7f9baa\" type=\"checkbox\" ><label class=\"sk-toggleable__label\" for=\"54779330-a4de-4153-a4cd-e163ae7f9baa\">RandomForestRegressor</label><div class=\"sk-toggleable__content\"><pre>RandomForestRegressor(max_depth=10, min_samples_leaf=2, n_estimators=200,\n",
       "                      random_state=0)</pre></div></div></div></div></div></div></div>"
      ],
      "text/plain": [
       "Pipeline(memory='C:\\\\Users\\\\audre\\\\AppData\\\\Local\\\\Temp\\\\tmpifk72011',\n",
       "         steps=[('scaler', StandardScaler()),\n",
       "                ('model',\n",
       "                 RandomForestRegressor(max_depth=10, min_samples_leaf=2,\n",
       "                                       n_estimators=200, random_state=0))])"
      ]
     },
     "execution_count": 44,
     "metadata": {},
     "output_type": "execute_result"
    }
   ],
   "source": [
    "# Best estimator object for RF model\n",
    "RF_fittedgrid.best_estimator_"
   ]
  },
  {
   "cell_type": "code",
   "execution_count": 45,
   "id": "e40f1964",
   "metadata": {},
   "outputs": [
    {
     "data": {
      "text/plain": [
       "{'model': RandomForestRegressor(max_depth=10, min_samples_leaf=2, n_estimators=200,\n",
       "                       random_state=0),\n",
       " 'model__bootstrap': True,\n",
       " 'model__max_depth': 10,\n",
       " 'model__max_features': 'auto',\n",
       " 'model__min_samples_leaf': 2,\n",
       " 'model__min_samples_split': 2,\n",
       " 'model__n_estimators': 200,\n",
       " 'scaler': StandardScaler()}"
      ]
     },
     "execution_count": 45,
     "metadata": {},
     "output_type": "execute_result"
    }
   ],
   "source": [
    "# Best hyperparameters for RF model\n",
    "RF_fittedgrid.best_params_"
   ]
  },
  {
   "cell_type": "code",
   "execution_count": 46,
   "id": "8862a2f1",
   "metadata": {},
   "outputs": [
    {
     "data": {
      "text/plain": [
       "-3.3698683433514076"
      ]
     },
     "execution_count": 46,
     "metadata": {},
     "output_type": "execute_result"
    }
   ],
   "source": [
    "# Best score\n",
    "RF_fittedgrid.best_score_"
   ]
  },
  {
   "cell_type": "code",
   "execution_count": 47,
   "id": "c11e677d",
   "metadata": {},
   "outputs": [],
   "source": [
    "# Using the best model parameter\n",
    "tuned_RF = RandomForestRegressor(max_depth=10, min_samples_leaf=2, n_estimators=200,\n",
    "                       random_state=0)"
   ]
  },
  {
   "cell_type": "code",
   "execution_count": 65,
   "id": "78001cad",
   "metadata": {},
   "outputs": [
    {
     "data": {
      "text/html": [
       "<style>div.sk-top-container {color: black;background-color: white;}div.sk-toggleable {background-color: white;}label.sk-toggleable__label {cursor: pointer;display: block;width: 100%;margin-bottom: 0;padding: 0.2em 0.3em;box-sizing: border-box;text-align: center;}div.sk-toggleable__content {max-height: 0;max-width: 0;overflow: hidden;text-align: left;background-color: #f0f8ff;}div.sk-toggleable__content pre {margin: 0.2em;color: black;border-radius: 0.25em;background-color: #f0f8ff;}input.sk-toggleable__control:checked~div.sk-toggleable__content {max-height: 200px;max-width: 100%;overflow: auto;}div.sk-estimator input.sk-toggleable__control:checked~label.sk-toggleable__label {background-color: #d4ebff;}div.sk-label input.sk-toggleable__control:checked~label.sk-toggleable__label {background-color: #d4ebff;}input.sk-hidden--visually {border: 0;clip: rect(1px 1px 1px 1px);clip: rect(1px, 1px, 1px, 1px);height: 1px;margin: -1px;overflow: hidden;padding: 0;position: absolute;width: 1px;}div.sk-estimator {font-family: monospace;background-color: #f0f8ff;margin: 0.25em 0.25em;border: 1px dotted black;border-radius: 0.25em;box-sizing: border-box;}div.sk-estimator:hover {background-color: #d4ebff;}div.sk-parallel-item::after {content: \"\";width: 100%;border-bottom: 1px solid gray;flex-grow: 1;}div.sk-label:hover label.sk-toggleable__label {background-color: #d4ebff;}div.sk-serial::before {content: \"\";position: absolute;border-left: 1px solid gray;box-sizing: border-box;top: 2em;bottom: 0;left: 50%;}div.sk-serial {display: flex;flex-direction: column;align-items: center;background-color: white;}div.sk-item {z-index: 1;}div.sk-parallel {display: flex;align-items: stretch;justify-content: center;background-color: white;}div.sk-parallel-item {display: flex;flex-direction: column;position: relative;background-color: white;}div.sk-parallel-item:first-child::after {align-self: flex-end;width: 50%;}div.sk-parallel-item:last-child::after {align-self: flex-start;width: 50%;}div.sk-parallel-item:only-child::after {width: 0;}div.sk-dashed-wrapped {border: 1px dashed gray;margin: 0.2em;box-sizing: border-box;padding-bottom: 0.1em;background-color: white;position: relative;}div.sk-label label {font-family: monospace;font-weight: bold;background-color: white;display: inline-block;line-height: 1.2em;}div.sk-label-container {position: relative;z-index: 2;text-align: center;}div.sk-container {display: inline-block;position: relative;}</style><div class=\"sk-top-container\"><div class=\"sk-container\"><div class=\"sk-item\"><div class=\"sk-estimator sk-toggleable\"><input class=\"sk-toggleable__control sk-hidden--visually\" id=\"b9517c95-fa0b-4188-9d49-8a53399a91f5\" type=\"checkbox\" checked><label class=\"sk-toggleable__label\" for=\"b9517c95-fa0b-4188-9d49-8a53399a91f5\">RandomForestRegressor</label><div class=\"sk-toggleable__content\"><pre>RandomForestRegressor(max_depth=10, min_samples_leaf=2, n_estimators=200,\n",
       "                      random_state=0)</pre></div></div></div></div></div>"
      ],
      "text/plain": [
       "RandomForestRegressor(max_depth=10, min_samples_leaf=2, n_estimators=200,\n",
       "                      random_state=0)"
      ]
     },
     "execution_count": 65,
     "metadata": {},
     "output_type": "execute_result"
    }
   ],
   "source": [
    "# fitting the Random Forest model\n",
    "\n",
    "\n",
    "tuned_RF.fit(X_train_ss,y_train)"
   ]
  },
  {
   "cell_type": "code",
   "execution_count": 66,
   "id": "1df8d086",
   "metadata": {},
   "outputs": [],
   "source": [
    "# Model Predictions for train and validation set\n",
    "RF_train_pred = tuned_RF.predict(X_train_ss)\n",
    "tuned_RF_pred = tuned_RF.predict(X_test_ss)"
   ]
  },
  {
   "cell_type": "code",
   "execution_count": 71,
   "id": "840f3f85",
   "metadata": {},
   "outputs": [
    {
     "name": "stdout",
     "output_type": "stream",
     "text": [
      "MAE: 3.2359750275503822\n",
      "MSE: 23.07869155376814\n",
      "RMSE: 4.804028679532226\n",
      "R2 for train set: 0.8853996069156322\n",
      "R2 for test set: 0.806528452758941\n"
     ]
    }
   ],
   "source": [
    "# List the model scores\n",
    "from sklearn import metrics\n",
    "\n",
    "print('MAE:', metrics.mean_absolute_error(y_test,tuned_RF_pred))\n",
    "print('MSE:', metrics.mean_squared_error(y_test, tuned_RF_pred))\n",
    "print('RMSE:', np.sqrt(metrics.mean_squared_error(y_test, tuned_RF_pred)))\n",
    "print('R2 for train set:', r2_score(y_train, RF_train_pred))\n",
    "print('R2 for test set:', r2_score(y_test, tuned_RF_pred))"
   ]
  },
  {
   "cell_type": "code",
   "execution_count": 51,
   "id": "f03ca403",
   "metadata": {},
   "outputs": [
    {
     "data": {
      "text/plain": [
       "['pickled_best_RF.pkl']"
      ]
     },
     "execution_count": 51,
     "metadata": {},
     "output_type": "execute_result"
    }
   ],
   "source": [
    "# use joblib to pickle the best model for future use\n",
    "joblib.dump(RF_fittedgrid.best_estimator_, 'pickled_best_RF.pkl')"
   ]
  },
  {
   "cell_type": "code",
   "execution_count": 72,
   "id": "6e2ca033",
   "metadata": {},
   "outputs": [
    {
     "data": {
      "text/html": [
       "<div>\n",
       "<style scoped>\n",
       "    .dataframe tbody tr th:only-of-type {\n",
       "        vertical-align: middle;\n",
       "    }\n",
       "\n",
       "    .dataframe tbody tr th {\n",
       "        vertical-align: top;\n",
       "    }\n",
       "\n",
       "    .dataframe thead th {\n",
       "        text-align: right;\n",
       "    }\n",
       "</style>\n",
       "<table border=\"1\" class=\"dataframe\">\n",
       "  <thead>\n",
       "    <tr style=\"text-align: right;\">\n",
       "      <th></th>\n",
       "      <th>models</th>\n",
       "      <th>RMSE</th>\n",
       "      <th>R2</th>\n",
       "    </tr>\n",
       "  </thead>\n",
       "  <tbody>\n",
       "    <tr>\n",
       "      <th>0</th>\n",
       "      <td>Decision Tree</td>\n",
       "      <td>8.25</td>\n",
       "      <td>0.43</td>\n",
       "    </tr>\n",
       "    <tr>\n",
       "      <th>1</th>\n",
       "      <td>Ridge</td>\n",
       "      <td>6.79</td>\n",
       "      <td>0.61</td>\n",
       "    </tr>\n",
       "    <tr>\n",
       "      <th>2</th>\n",
       "      <td>XGboostRegressor</td>\n",
       "      <td>3.81</td>\n",
       "      <td>0.88</td>\n",
       "    </tr>\n",
       "    <tr>\n",
       "      <th>3</th>\n",
       "      <td>RandomForestRegressor</td>\n",
       "      <td>4.80</td>\n",
       "      <td>0.81</td>\n",
       "    </tr>\n",
       "  </tbody>\n",
       "</table>\n",
       "</div>"
      ],
      "text/plain": [
       "                  models  RMSE    R2\n",
       "0          Decision Tree  8.25  0.43\n",
       "1                  Ridge  6.79  0.61\n",
       "2       XGboostRegressor  3.81  0.88\n",
       "3  RandomForestRegressor  4.80  0.81"
      ]
     },
     "execution_count": 72,
     "metadata": {},
     "output_type": "execute_result"
    }
   ],
   "source": [
    "Results = {'models' : ['Decision Tree', 'Ridge', 'XGboostRegressor', 'RandomForestRegressor'],\n",
    "           'RMSE' : [8.25, 6.79, 3.81, 4.80],\n",
    "           'R2' : [0.43, 0.61, 0.88, 0.81]}\n",
    "# Create DataFrame  \n",
    "Results_df = pd.DataFrame(Results)  \n",
    "Results_df"
   ]
  },
  {
   "cell_type": "code",
   "execution_count": 73,
   "id": "5c2d9a99",
   "metadata": {
    "collapsed": true
   },
   "outputs": [
    {
     "data": {
      "image/png": "[encoded data removed]",
      "text/plain": [
       "<Figure size 432x288 with 1 Axes>"
      ]
     },
     "metadata": {
      "needs_background": "light"
     },
     "output_type": "display_data"
    }
   ],
   "source": [
    "plt.barh(Results_df[\"models\"], Results_df[\"RMSE\"], color = 'blue')\n",
    "plt.title(\"Model RMSE\")\n",
    "plt.show()"
   ]
  },
  {
   "cell_type": "markdown",
   "id": "a104aa14",
   "metadata": {},
   "source": [
    "**OBSERVATIONS AND NEXT STEPS**\n",
    "- The Random Forest Regressor model gave us a RMSE of 4.8 which is not as low as the XGBoost but better than the ridge and Decision tree models\n",
    "- The R2 score of this model is also a lot better as well\n",
    "- we will go ahead and do a feature importance evaluation using Shapley values to interpret the XGBoost model in the next notebook as well as predict the target variable for the test set"
   ]
  },
  {
   "cell_type": "code",
   "execution_count": null,
   "id": "2ffe2d48",
   "metadata": {},
   "outputs": [],
   "source": []
  }
 ],
 "metadata": {
  "kernelspec": {
   "display_name": "Python [conda env:boosting]",
   "language": "python",
   "name": "conda-env-boosting-py"
  },
  "language_info": {
   "codemirror_mode": {
    "name": "ipython",
    "version": 3
   },
   "file_extension": ".py",
   "mimetype": "text/x-python",
   "name": "python",
   "nbconvert_exporter": "python",
   "pygments_lexer": "ipython3",
   "version": "3.8.13"
  },
  "toc": {
   "base_numbering": 1,
   "nav_menu": {},
   "number_sections": true,
   "sideBar": true,
   "skip_h1_title": false,
   "title_cell": "Table of Contents",
   "title_sidebar": "Contents",
   "toc_cell": false,
   "toc_position": {},
   "toc_section_display": true,
   "toc_window_display": false
  }
 },
 "nbformat": 4,
 "nbformat_minor": 5
}
